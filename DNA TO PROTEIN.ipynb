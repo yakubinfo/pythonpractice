{
 "cells": [
  {
   "cell_type": "code",
   "execution_count": 89,
   "metadata": {},
   "outputs": [
    {
     "name": "stdout",
     "output_type": "stream",
     "text": [
      "enter your seq: ACTAGCTCA\n",
      "TSS\n"
     ]
    }
   ],
   "source": [
    "seq1=input(\"enter your seq: \")\n",
    "j=len(seq1)\n",
    "aa = {\n",
    "    'ATA':'I', 'ATC':'I', 'ATT':'I', 'ATG':'M',\n",
    "    'ACA':'T', 'ACC':'T', 'ACG':'T', 'ACT':'T',\n",
    "    'AAC':'N', 'AAT':'N', 'AAA':'K', 'AAG':'K',\n",
    "    'AGC':'S', 'AGT':'S', 'AGA':'R', 'AGG':'R',\n",
    "    'CTA':'L', 'CTC':'L', 'CTG':'L', 'CTT':'L',\n",
    "    'CCA':'P', 'CCC':'P', 'CCG':'P', 'CCT':'P',\n",
    "    'CAC':'H', 'CAT':'H', 'CAA':'Q', 'CAG':'Q',\n",
    "    'CGA':'R', 'CGC':'R', 'CGG':'R', 'CGT':'R',\n",
    "    'GTA':'V', 'GTC':'V', 'GTG':'V', 'GTT':'V',\n",
    "    'GCA':'A', 'GCC':'A', 'GCG':'A', 'GCT':'A',\n",
    "    'GAC':'D', 'GAT':'D', 'GAA':'E', 'GAG':'E',\n",
    "    'GGA':'G', 'GGC':'G', 'GGG':'G', 'GGT':'G',\n",
    "    'TCA':'S', 'TCC':'S', 'TCG':'S', 'TCT':'S',\n",
    "    'TTC':'F', 'TTT':'F', 'TTA':'L', 'TTG':'L',\n",
    "    'TAC':'Y', 'TAT':'Y', 'TAA':'_', 'TAG':'_',\n",
    "    'TGC':'C', 'TGT':'C', 'TGA':'_', 'TGG':'W',\n",
    "    }\n",
    "prt=\"\"\n",
    "if j%3==0 or j%3!=0:\n",
    "    for i in range(0,j,3):\n",
    "        c=seq1[i:i+3]\n",
    "        prt+=aa[c]\n",
    "print(prt)"
   ]
  },
  {
   "cell_type": "code",
   "execution_count": 87,
   "metadata": {},
   "outputs": [
    {
     "name": "stdout",
     "output_type": "stream",
     "text": [
      "enter your seq: ACAAGATGCCATTGTCCCCCGGCCTCCTGCTGCTGCTGCTCTCCGGGGCCACGGCCACCGCTGCCCTGCC\n",
      "DNA:  ACAAGATGCCATTGTCCCCCGGCCTCCTGCTGCTGCTGCTCTCCGGGGCCACGGCCACCGCTGCCCTGCC\n",
      "RNA:  ACAAGAUGCCAUUGUCCCCCGGCCUCCUGCUGCUGCUGCUCUCCGGGGCCACGGCCACCGCUGCCCUGCC\n"
     ]
    }
   ],
   "source": [
    "seq1=input(\"enter your seq: \")\n",
    "print (\"DNA: \", seq1)\n",
    "rna = \"\"\n",
    "for i in seq1:\n",
    "    if i == \"T\":\n",
    "        rna += \"U\"\n",
    "    else:\n",
    "        rna += i\n",
    "print (\"RNA: \", rna)"
   ]
  },
  {
   "cell_type": "code",
   "execution_count": 31,
   "metadata": {},
   "outputs": [
    {
     "name": "stdout",
     "output_type": "stream",
     "text": [
      "I  : ['ATA', 'ATC', 'ATT']\n",
      "M  : ['ATG']\n",
      "T  : ['ACA', 'ACC', 'ACG', 'ACT']\n",
      "N  : ['AAC', 'AAT']\n",
      "K  : ['AAA', 'AAG']\n",
      "S  : ['AGC', 'AGT', 'TCA', 'TCC', 'TCG', 'TCT']\n",
      "R  : ['AGA', 'AGG', 'CGA', 'CGC', 'CGG', 'CGT']\n",
      "L  : ['CTA', 'CTC', 'CTG', 'CTT', 'TTA', 'TTG']\n",
      "P  : ['CCA', 'CCC', 'CCG', 'CCT']\n",
      "H  : ['CAC', 'CAT']\n",
      "Q  : ['CAA', 'CAG']\n",
      "V  : ['GTA', 'GTC', 'GTG', 'GTT']\n",
      "A  : ['GCA', 'GCC', 'GCG', 'GCT']\n",
      "D  : ['GAC', 'GAT']\n",
      "E  : ['GAA', 'GAG']\n",
      "G  : ['GGA', 'GGC', 'GGG', 'GGT']\n",
      "F  : ['TTC', 'TTT']\n",
      "Y  : ['TAC', 'TAT']\n",
      "_  : ['TAA', 'TAG', 'TGA']\n",
      "C  : ['TGC', 'TGT']\n",
      "W  : ['TGG']\n"
     ]
    }
   ],
   "source": [
    "aa = {\n",
    "    'ATA':'I', 'ATC':'I', 'ATT':'I', 'ATG':'M',\n",
    "    'ACA':'T', 'ACC':'T', 'ACG':'T', 'ACT':'T',\n",
    "    'AAC':'N', 'AAT':'N', 'AAA':'K', 'AAG':'K',\n",
    "    'AGC':'S', 'AGT':'S', 'AGA':'R', 'AGG':'R',\n",
    "    'CTA':'L', 'CTC':'L', 'CTG':'L', 'CTT':'L',\n",
    "    'CCA':'P', 'CCC':'P', 'CCG':'P', 'CCT':'P',\n",
    "    'CAC':'H', 'CAT':'H', 'CAA':'Q', 'CAG':'Q',\n",
    "    'CGA':'R', 'CGC':'R', 'CGG':'R', 'CGT':'R',\n",
    "    'GTA':'V', 'GTC':'V', 'GTG':'V', 'GTT':'V',\n",
    "    'GCA':'A', 'GCC':'A', 'GCG':'A', 'GCT':'A',\n",
    "    'GAC':'D', 'GAT':'D', 'GAA':'E', 'GAG':'E',\n",
    "    'GGA':'G', 'GGC':'G', 'GGG':'G', 'GGT':'G',\n",
    "    'TCA':'S', 'TCC':'S', 'TCG':'S', 'TCT':'S',\n",
    "    'TTC':'F', 'TTT':'F', 'TTA':'L', 'TTG':'L',\n",
    "    'TAC':'Y', 'TAT':'Y', 'TAA':'_', 'TAG':'_',\n",
    "    'TGC':'C', 'TGT':'C', 'TGA':'_', 'TGG':'W',\n",
    "    } \n",
    "dna= {} \n",
    "for key, value in aa.items(): \n",
    "    if value in dna: \n",
    "        dna[value].append(key) \n",
    "    else: \n",
    "        dna[value]=[key]\n",
    "for i in dna: \n",
    "    print(i, \" :\", dna[i])"
   ]
  },
  {
   "cell_type": "code",
   "execution_count": 9,
   "metadata": {},
   "outputs": [
    {
     "name": "stdout",
     "output_type": "stream",
     "text": [
      "enter seq: ATCG\n",
      "DNA String:  ATCG\n",
      "Complement:  CGAT\n"
     ]
    }
   ],
   "source": [
    "seq1=input(\"enter seq: \")\n",
    "k=len(seq1)\n",
    "print (\"DNA String: \", seq1)\n",
    "pairs = {\"A\" : \"T\", \"T\" : \"A\", \"G\" : \"C\", \"C\" : \"G\"}\n",
    "com = \"\"\n",
    "for i in range (k-1, -1,-1):\n",
    "    com += pairs[seq1[i]]\n",
    "print (\"Complement: \", com)"
   ]
  },
  {
   "cell_type": "code",
   "execution_count": null,
   "metadata": {},
   "outputs": [],
   "source": []
  }
 ],
 "metadata": {
  "kernelspec": {
   "display_name": "Python 3",
   "language": "python",
   "name": "python3"
  },
  "language_info": {
   "codemirror_mode": {
    "name": "ipython",
    "version": 3
   },
   "file_extension": ".py",
   "mimetype": "text/x-python",
   "name": "python",
   "nbconvert_exporter": "python",
   "pygments_lexer": "ipython3",
   "version": "3.7.4"
  }
 },
 "nbformat": 4,
 "nbformat_minor": 2
}




