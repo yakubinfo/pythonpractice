{
 "cells": [
  {
   "cell_type": "markdown",
   "metadata": {},
   "source": [
    "Question 1. At the halfway point during the Rio Olympics, the United States had 70\n",
    "medals, Great Britain had 38 medals, China had 45 medals, Russia had 30 medals, and\n",
    "Germany had 17 medals. Create a dictionary assigned to the variable medal_count with\n",
    "the country names as the keys and the number of medals the country had as each key’s\n",
    "value."
   ]
  },
  {
   "cell_type": "code",
   "execution_count": 13,
   "metadata": {},
   "outputs": [
    {
     "name": "stdout",
     "output_type": "stream",
     "text": [
      "{'United States': 70, 'Great Britain': 38, 'China': 45, 'Russia': 30, 'Germany': 17}\n"
     ]
    }
   ],
   "source": [
    "medel_count={}\n",
    "country=[\"United States\",\"Great Britain\",\"China\",\"Russia\",\"Germany\"]\n",
    "medel=[70,38,45,30,17]\n",
    "medel_count = {country[i]: medel[i] for i in range(len(country))} \n",
    "print(medel_count)"
   ]
  },
  {
   "cell_type": "markdown",
   "metadata": {},
   "source": [
    "Question 2. Given the dictionary swimmers, add an additional key-value pair to the\n",
    "dictionary with \"Phelps\" as the key and the integer 23 as the value. Do not rewrite the\n",
    "entire dictionary."
   ]
  },
  {
   "cell_type": "code",
   "execution_count": 10,
   "metadata": {},
   "outputs": [
    {
     "name": "stdout",
     "output_type": "stream",
     "text": [
      "{'Manuel': 4, 'Lochte': 12, 'Adrian': 7, 'Ledecky': 5, 'Dirado': 4, 'Phelps': 23}\n"
     ]
    }
   ],
   "source": [
    "swimmers = {'Manuel':4, 'Lochte':12, 'Adrian':7, 'Ledecky':5, 'Dirado':4}\n",
    "swimmers['Phelps'] = 23\n",
    "print(swimmers)"
   ]
  },
  {
   "cell_type": "markdown",
   "metadata": {},
   "source": [
    "Question 3. Add the string “hockey” as a key to the dictionary sports_periods and assign it\n",
    "the value of 3. Do not rewrite the entire dictionary."
   ]
  },
  {
   "cell_type": "code",
   "execution_count": 14,
   "metadata": {},
   "outputs": [
    {
     "name": "stdout",
     "output_type": "stream",
     "text": [
      "{'baseball': 9, 'basketball': 4, 'soccer': 4, 'cricket': 2, 'hockey': 3}\n"
     ]
    }
   ],
   "source": [
    "sports_periods = {'baseball': 9, 'basketball': 4, 'soccer': 4, 'cricket': 2}\n",
    "sports_periods['hockey']=3\n",
    "print(sports_periods)"
   ]
  },
  {
   "cell_type": "markdown",
   "metadata": {},
   "source": [
    "Question 4. The dictionary golds contains information about how many gold medals each\n",
    "country won in the 2016 Olympics. But today, Spain won 2 more gold medals. Update\n",
    "golds to reflect this information."
   ]
  },
  {
   "cell_type": "code",
   "execution_count": 24,
   "metadata": {},
   "outputs": [
    {
     "name": "stdout",
     "output_type": "stream",
     "text": [
      "before winning the 2 medel:  {'Italy': 12, 'USA': 33, 'Brazil': 15, 'China': 27, 'Spain': 19, 'Canada': 22, 'Argentina': 8, 'England': 29}\n",
      "after winning the 2 medel:  {'Italy': 12, 'USA': 33, 'Brazil': 15, 'China': 27, 'Spain': 21, 'Canada': 22, 'Argentina': 8, 'England': 29}\n"
     ]
    }
   ],
   "source": [
    "golds = {\"Italy\": 12, \"USA\": 33, \"Brazil\": 15, \"China\": 27, \"Spain\": 19, \"Canada\": 22, \"Argentina\": 8, \"England\": 29}\n",
    "print(\"before winning the 2 medel: \",golds)\n",
    "golds[\"Spain\"] += 2\n",
    "print(\"after winning the 2 medel: \",golds)"
   ]
  },
  {
   "cell_type": "markdown",
   "metadata": {},
   "source": [
    "Question 5. Create a list of the countries that are in the dictionary golds, and assign that\n",
    "list to the variable name countries. Do not hard code this.\n",
    "golds = {&quot;Italy&quot;: 12, &quot;USA&quot;: 33, &quot;Brazil&quot;: 15, &quot;China&quot;: 27, &quot;Spain&quot;: 19, &quot;Canada&quot;: 22,\n",
    "&quot;Argentina&quot;: 8, &quot;England&quot;: 29}"
   ]
  },
  {
   "cell_type": "code",
   "execution_count": 39,
   "metadata": {},
   "outputs": [
    {
     "name": "stdout",
     "output_type": "stream",
     "text": [
      "['Italy', 'USA', 'Brazil', 'China', 'Spain', 'Canada', 'Argentina', 'England']\n"
     ]
    }
   ],
   "source": [
    "golds = {\"Italy\": 12, \"USA\": 33, \"Brazil\": 15, \"China\": 27, \"Spain\": 19, \"Canada\": 22, \"Argentina\": 8, \"England\": 29}\n",
    "countries=[]\n",
    "for i in golds.keys():\n",
    "    countries.append(i)\n",
    "print(countries)"
   ]
  },
  {
   "cell_type": "markdown",
   "metadata": {},
   "source": [
    "Question 6. Provided is the dictionary, medal_count, which lists countries and their\n",
    "respective medal count at the halfway point in the 2016 Rio Olympics. Using dictionary\n",
    "mechanics, assign the medal count value for &quot;Belarus&quot; to the variable belarus.\n",
    "medal_count = {&#39;United States&#39;: 70, &#39;Great Britain&#39;:38, &#39;China&#39;:45, &#39;Russia&#39;:30,\n",
    "&#39;Germany&#39;:17, &#39;Italy&#39;:22, &#39;France&#39;: 22, &#39;Japan&#39;:26, &#39;Australia&#39;:22, &#39;South Korea&#39;:14,\n",
    "&#39;Hungary&#39;:12, &#39;Netherlands&#39;:10, &#39;Spain&#39;:5, &#39;New Zealand&#39;:8, &#39;Canada&#39;:13, &#39;Kazakhstan&#39;:8,\n",
    "&#39;Colombia&#39;:4, &#39;Switzerland&#39;:5, &#39;Belgium&#39;:4, &#39;Thailand&#39;:4, &#39;Croatia&#39;:3, &#39;Iran&#39;:3, &#39;Jamaica&#39;:3,\n",
    "&#39;South Africa&#39;:7, &#39;Sweden&#39;:6, &#39;Denmark&#39;:7, &#39;North Korea&#39;:6, &#39;Kenya&#39;:4, &#39;Brazil&#39;:7, &#39;Belarus&#39;:4,\n",
    "&#39;Cuba&#39;:5, &#39;Poland&#39;:4, &#39;Romania&#39;:4, &#39;Slovenia&#39;:3, &#39;Argentina&#39;:2, &#39;Bahrain&#39;:2, &#39;Slovakia&#39;:2,\n",
    "&#39;Vietnam&#39;:2, &#39;Czech Republic&#39;:6, &#39;Uzbekistan&#39;:5}"
   ]
  },
  {
   "cell_type": "code",
   "execution_count": 41,
   "metadata": {},
   "outputs": [
    {
     "name": "stdout",
     "output_type": "stream",
     "text": [
      "4\n"
     ]
    }
   ],
   "source": [
    "medal_count = {'United States': 70, 'Great Britain':38, 'China':45, 'Russia':30, 'Germany':17, 'Italy':22, 'France': 22, 'Japan':26, 'Australia':22, 'South Korea':14, 'Hungary':12, 'Netherlands':10, 'Spain':5, 'New Zealand':8, 'Canada':13, 'Kazakhstan':8, 'Colombia':4, 'Switzerland':5, 'Belgium':4, 'Thailand':4, 'Croatia':3, 'Iran':3, 'Jamaica':3, 'South Africa':7, 'Sweden':6, 'Denmark':7, 'North Korea':6, 'Kenya':4, 'Brazil':7, 'Belarus':4, 'Cuba':5, 'Poland':4, 'Romania':4, 'Slovenia':3, 'Argentina':2, 'Bahrain':2, 'Slovakia':2, 'Vietnam':2, 'Czech Republic':6, 'Uzbekistan':5}\n",
    "belarus=medal_count.get(\"Belarus\")\n",
    "print(belarus)"
   ]
  },
  {
   "cell_type": "markdown",
   "metadata": {},
   "source": [
    "Question 7. The dictionary total_golds contains the total number of gold medals that\n",
    "countries have won over the course of history. Use dictionary mechanics to find the\n",
    "number of golds Chile has won, and assign that number to the variable name chile_golds.\n",
    "total_golds = {&quot;Italy&quot;: 114, &quot;Germany&quot;: 782, &quot;Pakistan&quot;: 10, &quot;Sweden&quot;: 627, &quot;USA&quot;: 2681,\n",
    "&quot;Zimbabwe&quot;: 8, &quot;Greece&quot;: 111, &quot;Mongolia&quot;: 24, &quot;Brazil&quot;: 108, &quot;Croatia&quot;: 34, &quot;Algeria&quot;: 15,\n",
    "&quot;Switzerland&quot;: 323, &quot;Yugoslavia&quot;: 87, &quot;China&quot;: 526, &quot;Egypt&quot;: 26, &quot;Norway&quot;: 477, &quot;Spain&quot;:\n",
    "133, &quot;Australia&quot;: 480, &quot;Slovakia&quot;: 29, &quot;Canada&quot;: 22, &quot;New Zealand&quot;: 100, &quot;Denmark&quot;: 180,\n",
    "&quot;Chile&quot;: 13, &quot;Argentina&quot;: 70, &quot;Thailand&quot;: 24, &quot;Cuba&quot;: 209, &quot;Uganda&quot;: 7, &quot;England&quot;: 806,\n",
    "&quot;Denmark&quot;: 180, &quot;Ukraine&quot;: 122, &quot;Bahamas&quot;: 12}"
   ]
  },
  {
   "cell_type": "code",
   "execution_count": 43,
   "metadata": {},
   "outputs": [
    {
     "name": "stdout",
     "output_type": "stream",
     "text": [
      "[13]\n"
     ]
    }
   ],
   "source": [
    "total_golds = {\"Italy\": 114, \"Germany\": 782, \"Pakistan\": 10, \"Sweden\": 627, \"USA\": 2681, \"Zimbabwe\": 8, \"Greece\": 111, \"Mongolia\": 24, \"Brazil\": 108, \"Croatia\": 34, \"Algeria\": 15, \"Switzerland\": 323, \"Yugoslavia\": 87, \"China\": 526, \"Egypt\": 26, \"Norway\": 477, \"Spain\": 133, \"Australia\": 480, \"Slovakia\": 29, \"Canada\": 22, \"New Zealand\": 100, \"Denmark\": 180, \"Chile\": 13, \"Argentina\": 70, \"Thailand\": 24, \"Cuba\": 209, \"Uganda\": 7, \"England\": 806, \"Denmark\": 180, \"Ukraine\": 122, \"Bahamas\": 12}\n",
    "a=[]\n",
    "chile_golds=total_golds.get(\"Chile\")\n",
    "a.append(chile_golds)\n",
    "print(a)"
   ]
  },
  {
   "cell_type": "markdown",
   "metadata": {},
   "source": [
    "Question 8. Provided is a dictionary called US_medals which has the first 70 metals that\n",
    "the United States has won in 2016, and in which category they have won it in. Using\n",
    "dictionary mechanics, assign the value of the key &quot;Fencing&quot; to a variable fencing_value.\n",
    "Remember, do not hard code this.\n",
    "US_medals = {&quot;Swimming&quot;: 33, &quot;Gymnastics&quot;: 6, &quot;Track &amp; Field&quot;: 6, &quot;Tennis&quot;: 3, &quot;Judo&quot;: 2,\n",
    "&quot;Rowing&quot;: 2, &quot;Shooting&quot;: 3, &quot;Cycling - Road&quot;: 1, &quot;Fencing&quot;: 4, &quot;Diving&quot;: 2, &quot;Archery&quot;: 2,\n",
    "&quot;Cycling - Track&quot;: 1, &quot;Equestrian&quot;: 2, &quot;Golf&quot;: 1, &quot;Weightlifting&quot;: 1}"
   ]
  },
  {
   "cell_type": "code",
   "execution_count": 45,
   "metadata": {},
   "outputs": [
    {
     "name": "stdout",
     "output_type": "stream",
     "text": [
      "[4]\n"
     ]
    }
   ],
   "source": [
    "US_medals = {\"Swimming\": 33, \"Gymnastics\": 6, \"Track & Field\": 6, \"Tennis\": 3, \"Judo\": 2, \"Rowing\": 2, \"Shooting\": 3, \"Cycling - Road\": 1, \"Fencing\": 4, \"Diving\": 2, \"Archery\": 2, \"Cycling - Track\": 1, \"Equestrian\": 2, \"Golf\": 1, \"Weightlifting\": 1}\n",
    "fenc=[]\n",
    "fencing_value = US_medals.get(\"Fencing\")\n",
    "fenc.append(fencing_value)\n",
    "print(fenc)"
   ]
  },
  {
   "cell_type": "markdown",
   "metadata": {},
   "source": [
    "Question 9. The dictionary Junior shows a schedule for a junior year semester. The key is\n",
    "the course name and the value is the number of credits. Find the total number of credits\n",
    "taken this semester and assign it to the variable credits.\n",
    "Junior = {&#39;SI 206&#39;:4, &#39;SI 310&#39;:4, &#39;BL 300&#39;:3, &#39;TO 313&#39;:3, &#39;BCOM 350&#39;:1, &#39;MO 300&#39;:3}"
   ]
  },
  {
   "cell_type": "code",
   "execution_count": 56,
   "metadata": {},
   "outputs": [
    {
     "name": "stdout",
     "output_type": "stream",
     "text": [
      "18\n"
     ]
    }
   ],
   "source": [
    "Junior = {'SI 206':4, 'SI 310':4, 'BL 300':3, 'TO 313':3, 'BCOM 350':1, 'MO 300':3}\n",
    "s=0\n",
    "for i in Junior.values():\n",
    "    i=int(i)\n",
    "    s=s+i\n",
    "print(s)"
   ]
  },
  {
   "cell_type": "markdown",
   "metadata": {},
   "source": [
    "Question 10. Create a dictionary, freq, that displays each character in string str1 as the\n",
    "key and its frequency as the value.\n",
    "str1 = &quot;peter piper picked a peck of pickled peppers&quot;"
   ]
  },
  {
   "cell_type": "code",
   "execution_count": 73,
   "metadata": {},
   "outputs": [
    {
     "name": "stdout",
     "output_type": "stream",
     "text": [
      "{'p': 9, 'e': 8, 't': 1, 'r': 3, ' ': 7, 'i': 3, 'c': 3, 'k': 3, 'd': 2, 'a': 1, 'o': 1, 'f': 1, 'l': 1, 's': 1}\n"
     ]
    }
   ],
   "source": [
    "from collections import Counter \n",
    "str1 = \"peter piper picked a peck of pickled peppers\"\n",
    "a=Counter(str1)\n",
    "print(a)\n",
    "\n",
    "########################### OR ######################\n",
    "\n",
    "b={}\n",
    "for i in str1: \n",
    "    if i in b:\n",
    "        b[i]+=1\n",
    "    else:\n",
    "        b[i]=1\n",
    "print(b)"
   ]
  },
  {
   "cell_type": "markdown",
   "metadata": {},
   "source": [
    "Question 11. Provided is a string saved to the variable name s1. Create a dictionary\n",
    "named counts that contains each letter in s1 and the number of times it occurs.\n",
    "s1 = &quot;hello&quot;"
   ]
  },
  {
   "cell_type": "code",
   "execution_count": 4,
   "metadata": {},
   "outputs": [
    {
     "name": "stdout",
     "output_type": "stream",
     "text": [
      "{'h': 1, 'e': 1, 'l': 2, 'o': 1}\n"
     ]
    }
   ],
   "source": [
    "from collections import Counter\n",
    "s1 = \"hello\"\n",
    "freq = Counter(s1)\n",
    "print(dict(freq))"
   ]
  },
  {
   "cell_type": "markdown",
   "metadata": {},
   "source": [
    "Question 12. Create a dictionary, freq_words, that contains each word in string str1 as the\n",
    "key and its frequency as the value.\n",
    "str1 = &quot;I wish I wish with all my heart to fly with dragons in a land apart&quot;"
   ]
  },
  {
   "cell_type": "code",
   "execution_count": 5,
   "metadata": {},
   "outputs": [
    {
     "name": "stdout",
     "output_type": "stream",
     "text": [
      "{'I': 2, 'wish': 2, 'with': 2, 'all': 1, 'my': 1, 'heart': 1, 'to': 1, 'fly': 1, 'dragons': 1, 'in': 1, 'a': 1, 'land': 1, 'apart': 1}\n"
     ]
    }
   ],
   "source": [
    "from collections import Counter\n",
    "str1 = \"I wish I wish with all my heart to fly with dragons in a land apart\"\n",
    "freq_words=Counter(str1.split())\n",
    "print(dict(freq_words))"
   ]
  },
  {
   "cell_type": "markdown",
   "metadata": {},
   "source": [
    "Question 13. Create a dictionary called wrd_d from the string sent, so that the key is a\n",
    "word and the value is how many times you have seen that word.\n",
    "sent = &quot;Singing in the rain and playing in the rain are two entirely different situations but both can be\n",
    "good&quot;"
   ]
  },
  {
   "cell_type": "code",
   "execution_count": 3,
   "metadata": {},
   "outputs": [
    {
     "name": "stdout",
     "output_type": "stream",
     "text": [
      "{'Singing': 1, 'in': 2, 'the': 2, 'rain': 2, 'and': 1, 'playing': 1, 'are': 1, 'two': 1, 'entirely': 1, 'different': 1, 'situations': 1, 'but': 1, 'both': 1, 'can': 1, 'be': 1, 'good': 1}\n"
     ]
    }
   ],
   "source": [
    "from collections import Counter\n",
    "sent = \"Singing in the rain and playing in the rain are two entirely different situations but both can be good\"\n",
    "wrd_d=Counter(sent.split())\n",
    "print(dict(wrd_d))"
   ]
  },
  {
   "cell_type": "markdown",
   "metadata": {},
   "source": [
    "Question 14. Create the dictionary characters that shows each character from the string\n",
    "sally and its frequency. Then, find the most frequent letter based on the dictionary. Assign\n",
    "this letter to the variable best_char.\n",
    "sally = &quot;sally sells sea shells by the sea shore&quot;"
   ]
  },
  {
   "cell_type": "code",
   "execution_count": 1,
   "metadata": {},
   "outputs": [
    {
     "name": "stdout",
     "output_type": "stream",
     "text": [
      "{'s': 8, 'a': 3, 'l': 6, 'y': 2, ' ': 7, 'e': 6, 'h': 3, 'b': 1, 't': 1, 'o': 1, 'r': 1}\n",
      "the best character is:  s\n",
      "{'s': 8, 'a': 3, 'l': 6, 'y': 2, ' ': 7, 'e': 6, 'h': 3, 'b': 1, 't': 1, 'o': 1, 'r': 1}\n",
      "the best character is:  s\n"
     ]
    }
   ],
   "source": [
    "sally = \"sally sells sea shells by the sea shore\"\n",
    "characters = {}\n",
    "for i in sally:\n",
    "    characters[i]=characters.get(i,0)+1\n",
    "print(characters)\n",
    "best_char = sorted(characters.items(),key=lambda x: x[1])[-1][0]\n",
    "print(\"the best character is: \",best_char)\n",
    "\n",
    "################## OR #######################\n",
    "\n",
    "from collections import Counter\n",
    "w=Counter(sally)\n",
    "character=w\n",
    "print(dict(character))\n",
    "char_max=max(character, key=character.get)\n",
    "print(\"the best character is: \",char_max)"
   ]
  },
  {
   "cell_type": "markdown",
   "metadata": {},
   "source": [
    "Question 15. Find the least frequent letter. Create the dictionary characters that shows\n",
    "each character from string sally and its frequency. Then, find the least frequent letter in the\n",
    "string and assign the letter to the variable worst_char.\n",
    "sally = &quot;sally sells sea shells by the sea shore and by the road&quot;"
   ]
  },
  {
   "cell_type": "code",
   "execution_count": 8,
   "metadata": {},
   "outputs": [
    {
     "name": "stdout",
     "output_type": "stream",
     "text": [
      "{'s': 8, 'a': 5, 'l': 6, 'y': 3, ' ': 11, 'e': 7, 'h': 4, 'b': 2, 't': 2, 'o': 2, 'r': 2, 'n': 1, 'd': 2}\n",
      "the worst character is:  n\n",
      "{'s': 8, 'a': 5, 'l': 6, 'y': 3, ' ': 11, 'e': 7, 'h': 4, 'b': 2, 't': 2, 'o': 2, 'r': 2, 'n': 1, 'd': 2}\n",
      "the worst character is:  n\n"
     ]
    }
   ],
   "source": [
    "sally = \"sally sells sea shells by the sea shore and by the road\"\n",
    "characters = {}\n",
    "for i in sally:\n",
    "    characters[i]=characters.get(i,0)+1\n",
    "print(characters)\n",
    "worst_char = sorted(characters.items(), key=lambda x: x[1])[-13][0]\n",
    "print(\"the worst character is: \",worst_char)\n",
    "\n",
    "################## OR #######################\n",
    "\n",
    "from collections import Counter\n",
    "w=Counter(sally)\n",
    "character=w\n",
    "print(dict(character))\n",
    "char_min=min(character, key=character.get)\n",
    "print(\"the worst character is: \",char_min)"
   ]
  },
  {
   "cell_type": "markdown",
   "metadata": {},
   "source": [
    "Question 17. Create a dictionary called low_d that keeps track of all the characters in the\n",
    "string p and notes how many times each character was seen. Make sure that there are no\n",
    "repeats of characters as keys, such that “T” and “t” are both seen as a “t” for example.\n",
    "p = &quot;Summer is a great time to go outside. You have to be careful of the sun though because of the\n",
    "heat.&quot;"
   ]
  },
  {
   "cell_type": "code",
   "execution_count": 13,
   "metadata": {},
   "outputs": [
    {
     "name": "stdout",
     "output_type": "stream",
     "text": [
      "  20\n",
      "e 12\n",
      "t 9\n",
      "o 8\n",
      "u 7\n",
      "a 6\n",
      "h 6\n",
      "s 4\n",
      "m 3\n",
      "r 3\n",
      "i 3\n",
      "g 3\n",
      "f 3\n",
      ". 2\n",
      "b 2\n",
      "c 2\n"
     ]
    }
   ],
   "source": [
    "import collections\n",
    "p = p = \"Summer is a great time to go outside. You have to be careful of the sun though because of the heat.\"\n",
    "low_d  = collections.defaultdict(int)\n",
    "for c in p:\n",
    "    low_d[c] += 1        \n",
    "for c in sorted(low_d, key=low_d.get, reverse=True):\n",
    "    if low_d[c] > 1:\n",
    "        print('%s %d' % (c, low_d[c]))"
   ]
  },
  {
   "cell_type": "code",
   "execution_count": null,
   "metadata": {},
   "outputs": [],
   "source": []
  },
  {
   "cell_type": "code",
   "execution_count": null,
   "metadata": {},
   "outputs": [],
   "source": []
  }
 ],
 "metadata": {
  "kernelspec": {
   "display_name": "Python 3",
   "language": "python",
   "name": "python3"
  },
  "language_info": {
   "codemirror_mode": {
    "name": "ipython",
    "version": 3
   },
   "file_extension": ".py",
   "mimetype": "text/x-python",
   "name": "python",
   "nbconvert_exporter": "python",
   "pygments_lexer": "ipython3",
   "version": "3.7.4"
  }
 },
 "nbformat": 4,
 "nbformat_minor": 2
}
