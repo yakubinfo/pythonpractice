{
 "cells": [
  {
   "cell_type": "code",
   "execution_count": 8,
   "metadata": {},
   "outputs": [],
   "source": [
    "import re"
   ]
  },
  {
   "cell_type": "markdown",
   "metadata": {},
   "source": [
    "Q1. Which of the following regular expressions would extract 'uct.ac.za' from this string using re.findall string=\"From stephen.marquard@uct.ac.za Sat Jan 5 09:14:16 2008\""
   ]
  },
  {
   "cell_type": "code",
   "execution_count": 9,
   "metadata": {},
   "outputs": [],
   "source": [
    "string=\"From stephen.marquard@uct.ac.za + Sat Jan 5 09:14:16 2008\""
   ]
  },
  {
   "cell_type": "code",
   "execution_count": 10,
   "metadata": {},
   "outputs": [
    {
     "data": {
      "text/plain": [
       "['uct.ac.za']"
      ]
     },
     "execution_count": 10,
     "metadata": {},
     "output_type": "execute_result"
    }
   ],
   "source": [
    "re.findall('@(\\S+)',string)"
   ]
  },
  {
   "cell_type": "markdown",
   "metadata": {},
   "source": [
    "2.What will the '$' regular expression match?"
   ]
  },
  {
   "cell_type": "code",
   "execution_count": 11,
   "metadata": {},
   "outputs": [
    {
     "data": {
      "text/plain": [
       "[]"
      ]
     },
     "execution_count": 11,
     "metadata": {},
     "output_type": "execute_result"
    }
   ],
   "source": [
    "string=\"From stephen.marquard@uct.ac.za + Sat Jan 5 09:14:16 2008\"\n",
    "re.findall('\\$',string)# will match the 'dollar sign'"
   ]
  },
  {
   "cell_type": "markdown",
   "metadata": {},
   "source": [
    "Q3.What would the following mean in a regular expression? [a-z0-9]"
   ]
  },
  {
   "cell_type": "code",
   "execution_count": 12,
   "metadata": {},
   "outputs": [
    {
     "data": {
      "text/plain": [
       "['r',\n",
       " 'o',\n",
       " 'm',\n",
       " 's',\n",
       " 't',\n",
       " 'e',\n",
       " 'p',\n",
       " 'h',\n",
       " 'e',\n",
       " 'n',\n",
       " 'm',\n",
       " 'a',\n",
       " 'r',\n",
       " 'q',\n",
       " 'u',\n",
       " 'a',\n",
       " 'r',\n",
       " 'd',\n",
       " 'u',\n",
       " 'c',\n",
       " 't',\n",
       " 'a',\n",
       " 'c',\n",
       " 'z',\n",
       " 'a',\n",
       " 'a',\n",
       " 't',\n",
       " 'a',\n",
       " 'n',\n",
       " '5',\n",
       " '0',\n",
       " '9',\n",
       " '1',\n",
       " '4',\n",
       " '1',\n",
       " '6',\n",
       " '2',\n",
       " '0',\n",
       " '0',\n",
       " '8']"
      ]
     },
     "execution_count": 12,
     "metadata": {},
     "output_type": "execute_result"
    }
   ],
   "source": [
    "string=\"From stephen.marquard@uct.ac.za + Sat Jan 5 09:14:16 2008\"\n",
    "re.findall(\"[a-z0-9]\",string)#matching all alpha numeric entries"
   ]
  },
  {
   "cell_type": "markdown",
   "metadata": {},
   "source": [
    "4.What is the type of the return value of the re.findall() method?"
   ]
  },
  {
   "cell_type": "markdown",
   "metadata": {},
   "source": [
    "The return value of re.findall() method is a list of strings"
   ]
  },
  {
   "cell_type": "markdown",
   "metadata": {},
   "source": [
    "5.What is the \"wild card\" character in a regular expression (i.e the character that matches any character)?\n",
    "\n",
    "is the wildcard character"
   ]
  },
  {
   "cell_type": "markdown",
   "metadata": {},
   "source": [
    "6.What is the difference between the \"+\" and \"*\" character in regular expressions?\n",
    "The \"+\" matches at least one character and the \"*\" matches zero or more characters"
   ]
  },
  {
   "cell_type": "code",
   "execution_count": 13,
   "metadata": {},
   "outputs": [
    {
     "name": "stdout",
     "output_type": "stream",
     "text": [
      "['From: Using the:']\n"
     ]
    }
   ],
   "source": [
    "#output of the following code\n",
    "x='From: Using the: character'\n",
    "y=re.findall('^F.+:',x)\n",
    "print(y)"
   ]
  },
  {
   "cell_type": "markdown",
   "metadata": {},
   "source": [
    "7.What does the \"[0-9]+\" match in a regular expression?"
   ]
  },
  {
   "cell_type": "code",
   "execution_count": 14,
   "metadata": {},
   "outputs": [
    {
     "data": {
      "text/plain": [
       "['5', '09', '14', '16', '2008']"
      ]
     },
     "execution_count": 14,
     "metadata": {},
     "output_type": "execute_result"
    }
   ],
   "source": [
    "string=\"From stephen.marquard@uct.ac.za + Sat Jan 5 09:14:16 2008\"\n",
    "re.findall(\"[0-9]+\",string)"
   ]
  },
  {
   "cell_type": "markdown",
   "metadata": {},
   "source": [
    "9.What character do you add to the \"+\" or \"*\" to indicate that the match is to be done in a non-greedy manner?\n",
    "\n",
    "Answer: To perform a non-greedy match we need to add \"?\""
   ]
  },
  {
   "cell_type": "markdown",
   "metadata": {},
   "source": [
    "10.Given the following line of text: From stephen.marquard@uct.ac.za + Sat Jan 5 09:14:16 2008"
   ]
  },
  {
   "cell_type": "code",
   "execution_count": 15,
   "metadata": {},
   "outputs": [
    {
     "data": {
      "text/plain": [
       "['stephen.marquard@uct.ac.za']"
      ]
     },
     "execution_count": 15,
     "metadata": {},
     "output_type": "execute_result"
    }
   ],
   "source": [
    "string=\"From stephen.marquard@uct.ac.za + Sat Jan 5 09:14:16 2008\"\n",
    "re.findall('\\S+?@\\S+',string)\n",
    "#The answer is the fifth option"
   ]
  },
  {
   "cell_type": "markdown",
   "metadata": {},
   "source": [
    "# regex_bigfile with decorator to count the lines"
   ]
  },
  {
   "cell_type": "markdown",
   "metadata": {},
   "source": [
    "#regex_big file contains some text, read the text file in python using readlines and print the count of email ids, dates (in date month and year format), and websites."
   ]
  },
  {
   "cell_type": "code",
   "execution_count": 16,
   "metadata": {},
   "outputs": [
    {
     "name": "stdout",
     "output_type": "stream",
     "text": [
      "enter the file namefile.txt\n",
      "47\n"
     ]
    }
   ],
   "source": [
    "#with out decorator user input\n",
    "def func():\n",
    "    fname=input(\"enter the file name\")\n",
    "    c=0\n",
    "    with open(fname) as f:\n",
    "        for l in f.readlines():\n",
    "            c+=1\n",
    "        print(c)\n",
    "func()"
   ]
  },
  {
   "cell_type": "code",
   "execution_count": 17,
   "metadata": {
    "scrolled": true
   },
   "outputs": [
    {
     "name": "stdout",
     "output_type": "stream",
     "text": [
      "The no of lines in the file is:  \n",
      "47\n"
     ]
    }
   ],
   "source": [
    "#with decorator direct input\n",
    "def count(fun):\n",
    "    def wrapper(*args,**kwargs):\n",
    "        print(\"The no of lines in the file is:  \")\n",
    "        c=0\n",
    "        with open(args[0]) as f:\n",
    "            for l in f.readlines():\n",
    "                c+=1\n",
    "            print(c)\n",
    "    return wrapper\n",
    "@count\n",
    "def name(name1):\n",
    "    print(\"\")\n",
    "name(\"file.txt\")   "
   ]
  },
  {
   "cell_type": "markdown",
   "metadata": {},
   "source": [
    "# not working please review the below code. with decorator user input not taken"
   ]
  },
  {
   "cell_type": "code",
   "execution_count": 4,
   "metadata": {},
   "outputs": [
    {
     "ename": "TypeError",
     "evalue": "'NoneType' object is not callable",
     "output_type": "error",
     "traceback": [
      "\u001b[0;31m---------------------------------------------------------------------------\u001b[0m",
      "\u001b[0;31mTypeError\u001b[0m                                 Traceback (most recent call last)",
      "\u001b[0;32m<ipython-input-4-f141f0fc3e51>\u001b[0m in \u001b[0;36m<module>\u001b[0;34m\u001b[0m\n\u001b[1;32m     11\u001b[0m \u001b[0;32mdef\u001b[0m \u001b[0mname\u001b[0m\u001b[0;34m(\u001b[0m\u001b[0ma\u001b[0m\u001b[0;34m)\u001b[0m\u001b[0;34m:\u001b[0m\u001b[0;34m\u001b[0m\u001b[0;34m\u001b[0m\u001b[0m\n\u001b[1;32m     12\u001b[0m     \u001b[0ma\u001b[0m\u001b[0;34m=\u001b[0m\u001b[0minput\u001b[0m\u001b[0;34m(\u001b[0m\u001b[0;34m\"enter the file name: \"\u001b[0m\u001b[0;34m)\u001b[0m\u001b[0;34m\u001b[0m\u001b[0;34m\u001b[0m\u001b[0m\n\u001b[0;32m---> 13\u001b[0;31m \u001b[0mname\u001b[0m\u001b[0;34m(\u001b[0m\u001b[0;34m)\u001b[0m\u001b[0;34m\u001b[0m\u001b[0;34m\u001b[0m\u001b[0m\n\u001b[0m",
      "\u001b[0;31mTypeError\u001b[0m: 'NoneType' object is not callable"
     ]
    }
   ],
   "source": [
    "#not working please review it.\n",
    "def count(func):\n",
    "    def wrapper(*args,**kwargs):\n",
    "        c=0\n",
    "        with open(args[0]) as f:\n",
    "            for l in f.readlines():\n",
    "                c+=1\n",
    "            print(c)\n",
    "        return wrapper\n",
    "@count\n",
    "def name(a):\n",
    "    a=input(\"enter the file name: \")\n",
    "name()"
   ]
  },
  {
   "cell_type": "code",
   "execution_count": 1,
   "metadata": {},
   "outputs": [
    {
     "name": "stdout",
     "output_type": "stream",
     "text": [
      "enter the file namefile.txt\n",
      "total no of lines in the file:  1\n",
      "no of date:  0\n",
      "no of email:  0\n"
     ]
    }
   ],
   "source": [
    "import re\n",
    "def func():\n",
    "    fname=input(\"enter the file name\")\n",
    "    a=0\n",
    "    b=0\n",
    "    c=0\n",
    "    with open(fname) as f:\n",
    "        for l in f.readlines():\n",
    "            c+=1\n",
    "            if re.search(r\"[0-9]+ \\w+ [0-9]\", l):\n",
    "                a+=1\n",
    "            if re.search(r\"[a-zA-Z0-9]\\S*@\\S[a-zA-Z]\",l):\n",
    "                b+=1\n",
    "    print(\"total no of lines in the file: \",c)\n",
    "    print(\"no of date: \",a)\n",
    "    print(\"no of email: \",b)\n",
    "func()"
   ]
  },
  {
   "cell_type": "code",
   "execution_count": 22,
   "metadata": {},
   "outputs": [
    {
     "ename": "TypeError",
     "evalue": "expected str, bytes or os.PathLike object, not function",
     "output_type": "error",
     "traceback": [
      "\u001b[0;31m---------------------------------------------------------------------------\u001b[0m",
      "\u001b[0;31mTypeError\u001b[0m                                 Traceback (most recent call last)",
      "\u001b[0;32m<ipython-input-22-6c40e6234a53>\u001b[0m in \u001b[0;36m<module>\u001b[0;34m\u001b[0m\n\u001b[1;32m     16\u001b[0m     \u001b[0mprint\u001b[0m\u001b[0;34m(\u001b[0m\u001b[0;34m\"no of date: \"\u001b[0m\u001b[0;34m,\u001b[0m\u001b[0ma\u001b[0m\u001b[0;34m)\u001b[0m\u001b[0;34m\u001b[0m\u001b[0;34m\u001b[0m\u001b[0m\n\u001b[1;32m     17\u001b[0m     \u001b[0mprint\u001b[0m\u001b[0;34m(\u001b[0m\u001b[0;34m\"no of email: \"\u001b[0m\u001b[0;34m,\u001b[0m\u001b[0mb\u001b[0m\u001b[0;34m)\u001b[0m\u001b[0;34m\u001b[0m\u001b[0;34m\u001b[0m\u001b[0m\n\u001b[0;32m---> 18\u001b[0;31m \u001b[0;34m@\u001b[0m\u001b[0mfunc\u001b[0m\u001b[0;34m\u001b[0m\u001b[0;34m\u001b[0m\u001b[0m\n\u001b[0m\u001b[1;32m     19\u001b[0m \u001b[0;32mdef\u001b[0m \u001b[0malpha\u001b[0m\u001b[0;34m(\u001b[0m\u001b[0;34m*\u001b[0m\u001b[0margs\u001b[0m\u001b[0;34m)\u001b[0m\u001b[0;34m:\u001b[0m\u001b[0;34m\u001b[0m\u001b[0;34m\u001b[0m\u001b[0m\n\u001b[1;32m     20\u001b[0m     \u001b[0mfname\u001b[0m\u001b[0;34m=\u001b[0m\u001b[0minput\u001b[0m\u001b[0;34m(\u001b[0m\u001b[0;34m\"enter the file name\"\u001b[0m\u001b[0;34m)\u001b[0m\u001b[0;34m\u001b[0m\u001b[0;34m\u001b[0m\u001b[0m\n",
      "\u001b[0;32m<ipython-input-22-6c40e6234a53>\u001b[0m in \u001b[0;36mfunc\u001b[0;34m(x)\u001b[0m\n\u001b[1;32m      5\u001b[0m     \u001b[0mb\u001b[0m\u001b[0;34m=\u001b[0m\u001b[0;36m0\u001b[0m\u001b[0;34m\u001b[0m\u001b[0;34m\u001b[0m\u001b[0m\n\u001b[1;32m      6\u001b[0m     \u001b[0mc\u001b[0m\u001b[0;34m=\u001b[0m\u001b[0;36m0\u001b[0m\u001b[0;34m\u001b[0m\u001b[0;34m\u001b[0m\u001b[0m\n\u001b[0;32m----> 7\u001b[0;31m     \u001b[0;32mwith\u001b[0m \u001b[0mopen\u001b[0m\u001b[0;34m(\u001b[0m\u001b[0mx\u001b[0m\u001b[0;34m)\u001b[0m \u001b[0;32mas\u001b[0m \u001b[0mf\u001b[0m\u001b[0;34m:\u001b[0m\u001b[0;34m\u001b[0m\u001b[0;34m\u001b[0m\u001b[0m\n\u001b[0m\u001b[1;32m      8\u001b[0m         \u001b[0;32mfor\u001b[0m \u001b[0ml\u001b[0m \u001b[0;32min\u001b[0m \u001b[0mf\u001b[0m\u001b[0;34m.\u001b[0m\u001b[0mreadlines\u001b[0m\u001b[0;34m(\u001b[0m\u001b[0;34m)\u001b[0m\u001b[0;34m:\u001b[0m\u001b[0;34m\u001b[0m\u001b[0;34m\u001b[0m\u001b[0m\n\u001b[1;32m      9\u001b[0m             \u001b[0mc\u001b[0m\u001b[0;34m+=\u001b[0m\u001b[0;36m1\u001b[0m\u001b[0;34m\u001b[0m\u001b[0;34m\u001b[0m\u001b[0m\n",
      "\u001b[0;31mTypeError\u001b[0m: expected str, bytes or os.PathLike object, not function"
     ]
    }
   ],
   "source": [
    "import re\n",
    "def func(x):\n",
    "    #fname=input(\"enter the file name\")\n",
    "    a=0\n",
    "    b=0\n",
    "    c=0\n",
    "    with open(x) as f:\n",
    "        for l in f.readlines():\n",
    "            c+=1\n",
    "            if re.search(r\"[0-9]+ \\w+ [0-9]\", l):\n",
    "                a+=1\n",
    "            if re.search(r\"[a-zA-Z0-9]\\S*@\\S[a-zA-Z]\",l):\n",
    "                b+=1\n",
    "            #if re.search(r\"[]\")\n",
    "    print(\"total no of lines in the file: \",c)\n",
    "    print(\"no of date: \",a)\n",
    "    print(\"no of email: \",b)\n",
    "@func\n",
    "def alpha(*args):\n",
    "    fname=input(\"enter the file name\")\n",
    "alpha()"
   ]
  },
  {
   "cell_type": "markdown",
   "metadata": {},
   "source": [
    "# Create a decorator which prints bytesize of functions (use sys.getsizeof())"
   ]
  },
  {
   "cell_type": "code",
   "execution_count": 26,
   "metadata": {},
   "outputs": [
    {
     "ename": "NameError",
     "evalue": "name 'wrapper' is not defined",
     "output_type": "error",
     "traceback": [
      "\u001b[0;31m---------------------------------------------------------------------------\u001b[0m",
      "\u001b[0;31mNameError\u001b[0m                                 Traceback (most recent call last)",
      "\u001b[0;32m<ipython-input-26-1f9dbf639555>\u001b[0m in \u001b[0;36m<module>\u001b[0;34m\u001b[0m\n\u001b[1;32m     10\u001b[0m     \u001b[0;32mreturn\u001b[0m \u001b[0mwrapper\u001b[0m\u001b[0;34m\u001b[0m\u001b[0;34m\u001b[0m\u001b[0m\n\u001b[1;32m     11\u001b[0m \u001b[0;34m\u001b[0m\u001b[0m\n\u001b[0;32m---> 12\u001b[0;31m \u001b[0;34m@\u001b[0m\u001b[0msizef\u001b[0m\u001b[0;34m\u001b[0m\u001b[0;34m\u001b[0m\u001b[0m\n\u001b[0m\u001b[1;32m     13\u001b[0m \u001b[0;32mdef\u001b[0m \u001b[0mout\u001b[0m\u001b[0;34m(\u001b[0m\u001b[0mfunc\u001b[0m\u001b[0;34m)\u001b[0m\u001b[0;34m:\u001b[0m\u001b[0;34m\u001b[0m\u001b[0;34m\u001b[0m\u001b[0m\n\u001b[1;32m     14\u001b[0m     \u001b[0mprint\u001b[0m\u001b[0;34m(\u001b[0m\u001b[0;34m\"the size is: \"\u001b[0m\u001b[0;34m,\u001b[0m \u001b[0mres\u001b[0m\u001b[0;34m)\u001b[0m\u001b[0;34m\u001b[0m\u001b[0;34m\u001b[0m\u001b[0m\n",
      "\u001b[0;32m<ipython-input-26-1f9dbf639555>\u001b[0m in \u001b[0;36msizef\u001b[0;34m(func)\u001b[0m\n\u001b[1;32m      8\u001b[0m \u001b[0;34m\u001b[0m\u001b[0m\n\u001b[1;32m      9\u001b[0m \u001b[0;34m\u001b[0m\u001b[0m\n\u001b[0;32m---> 10\u001b[0;31m     \u001b[0;32mreturn\u001b[0m \u001b[0mwrapper\u001b[0m\u001b[0;34m\u001b[0m\u001b[0;34m\u001b[0m\u001b[0m\n\u001b[0m\u001b[1;32m     11\u001b[0m \u001b[0;34m\u001b[0m\u001b[0m\n\u001b[1;32m     12\u001b[0m \u001b[0;34m@\u001b[0m\u001b[0msizef\u001b[0m\u001b[0;34m\u001b[0m\u001b[0;34m\u001b[0m\u001b[0m\n",
      "\u001b[0;31mNameError\u001b[0m: name 'wrapper' is not defined"
     ]
    }
   ],
   "source": [
    "import sys\n",
    "def sizef(func):\n",
    "    \n",
    "    def filesize():\n",
    "    \n",
    "        l=open(\"file.txt\",\"r\") \n",
    "        res = sys.getsizeof(l) \n",
    "        \n",
    "    \n",
    "    return wrapper\n",
    "\n",
    "@sizef\n",
    "def out(func):\n",
    "    print(\"the size is: \", res)\n",
    "out()"
   ]
  },
  {
   "cell_type": "code",
   "execution_count": 25,
   "metadata": {},
   "outputs": [
    {
     "name": "stdout",
     "output_type": "stream",
     "text": [
      "The no of lines in the file is:  \n",
      "47\n"
     ]
    }
   ],
   "source": [
    "def count(fun):\n",
    "    def wrapper(*args,**kwargs):\n",
    "        print(\"The no of lines in the file is:  \")\n",
    "        c=0\n",
    "        with open(args[0]) as f:\n",
    "            for l in f.readlines():\n",
    "                c+=1\n",
    "            print(c)\n",
    "    return wrapper\n",
    "@count\n",
    "def name(name1):\n",
    "    print(\"\")\n",
    "name(\"file.txt\")"
   ]
  },
  {
   "cell_type": "code",
   "execution_count": 32,
   "metadata": {},
   "outputs": [
    {
     "name": "stdout",
     "output_type": "stream",
     "text": [
      "the size of the file: \n",
      "<_io.TextIOWrapper name='file.txt' mode='r' encoding='UTF-8'>\n"
     ]
    }
   ],
   "source": [
    "import sys\n",
    "def size(fun):\n",
    "    def wrapper(*args, **kwargs):\n",
    "        print(\"the size of the file: \")\n",
    "        l=open(args[0],\"r\")\n",
    "        print (l)\n",
    "    return wrapper\n",
    "@size\n",
    "def name(name1):\n",
    "    print(\"\")\n",
    "name(\"file.txt\")"
   ]
  }
 ],
 "metadata": {
  "kernelspec": {
   "display_name": "Python 3",
   "language": "python",
   "name": "python3"
  },
  "language_info": {
   "codemirror_mode": {
    "name": "ipython",
    "version": 3
   },
   "file_extension": ".py",
   "mimetype": "text/x-python",
   "name": "python",
   "nbconvert_exporter": "python",
   "pygments_lexer": "ipython3",
   "version": "3.7.4"
  }
 },
 "nbformat": 4,
 "nbformat_minor": 2
}
