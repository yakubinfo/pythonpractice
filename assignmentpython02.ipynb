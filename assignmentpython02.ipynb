{
 "cells": [
  {
   "cell_type": "markdown",
   "metadata": {},
   "source": [
    "1) What will the output be for the following code?"
   ]
  },
  {
   "cell_type": "code",
   "execution_count": 2,
   "metadata": {},
   "outputs": [
    {
     "name": "stdout",
     "output_type": "stream",
     "text": [
      "pzpzpzpzpz\n"
     ]
    }
   ],
   "source": [
    "let = \"z\"\n",
    "let_two = \"p\"\n",
    "c = let_two + let\n",
    "m = c*5\n",
    "print(m)"
   ]
  },
  {
   "cell_type": "markdown",
   "metadata": {},
   "source": [
    "2) Write a program that extracts the last three items in the list sports and assigns it to the variable last. Make sure to write your code so that it works no matter how many items are in the list.\n",
    "sports = ['cricket', 'football', 'volleyball', 'baseball', 'softball', 'track and field', 'curling', 'pingpong', 'hockey']"
   ]
  },
  {
   "cell_type": "code",
   "execution_count": 12,
   "metadata": {},
   "outputs": [
    {
     "name": "stdout",
     "output_type": "stream",
     "text": [
      "[['hockey', 'pingpong', 'curling']]\n"
     ]
    }
   ],
   "source": [
    "last=[]\n",
    "sports = ['cricket', 'football', 'volleyball', 'baseball', 'softball', 'track and field', 'curling', 'pingpong', 'hockey']\n",
    "x=sports[::-1]\n",
    "y=x[:3]\n",
    "last.append(y)\n",
    "print(last)"
   ]
  },
  {
   "cell_type": "markdown",
   "metadata": {},
   "source": [
    "3)Write code that combines the following variables so that the sentence “You are doing a great job, keep it up!” is assigned to the variable message. Do not edit the values assigned to by, az, io, or qy.\n",
    "by = \"You are\"\n",
    "az = \"doing a great \"\n",
    "io = \"job\"\n",
    "qy = \"keep it up!\""
   ]
  },
  {
   "cell_type": "code",
   "execution_count": 13,
   "metadata": {},
   "outputs": [
    {
     "name": "stdout",
     "output_type": "stream",
     "text": [
      "You are doing a great job, keep it up!\n"
     ]
    }
   ],
   "source": [
    "by = \"You are\"\n",
    "az = \"doing a great \"\n",
    "io = \"job\"\n",
    "qy = \"keep it up!\"\n",
    "print(by+\" \"+az+io+\", \"+qy)"
   ]
  },
  {
   "cell_type": "markdown",
   "metadata": {},
   "source": [
    "4)What will the output be for the following code?\n",
    "ls = ['run', 'world', 'travel', 'lights', 'moon', 'baseball', 'sea']\n",
    "new = ls[2:4]\n",
    "print(new)"
   ]
  },
  {
   "cell_type": "code",
   "execution_count": 35,
   "metadata": {},
   "outputs": [
    {
     "name": "stdout",
     "output_type": "stream",
     "text": [
      "['travel', 'lights']\n"
     ]
    }
   ],
   "source": [
    "ls = ['run', 'world', 'travel', 'lights', 'moon', 'baseball', 'sea']\n",
    "new = ls[2:4]\n",
    "print(new)"
   ]
  },
  {
   "cell_type": "markdown",
   "metadata": {},
   "source": [
    "5)What is the type of m?\n",
    "l = ['w', '7', 0, 9]\n",
    "m = l[1:2]"
   ]
  },
  {
   "cell_type": "code",
   "execution_count": 36,
   "metadata": {},
   "outputs": [],
   "source": [
    "l = ['w', '7', 0, 9]\n",
    "m = l[1:2]"
   ]
  },
  {
   "cell_type": "code",
   "execution_count": 37,
   "metadata": {},
   "outputs": [
    {
     "data": {
      "text/plain": [
       "list"
      ]
     },
     "execution_count": 37,
     "metadata": {},
     "output_type": "execute_result"
    }
   ],
   "source": [
    "type(m)"
   ]
  },
  {
   "cell_type": "markdown",
   "metadata": {},
   "source": [
    "6: What is the type of m?\n",
    "l = ['w', '7', 0, 9]\n",
    "m = l[1]"
   ]
  },
  {
   "cell_type": "code",
   "execution_count": 38,
   "metadata": {},
   "outputs": [],
   "source": [
    "l = ['w', '7', 0, 9]\n",
    "m = l[1]"
   ]
  },
  {
   "cell_type": "code",
   "execution_count": 39,
   "metadata": {},
   "outputs": [
    {
     "data": {
      "text/plain": [
       "str"
      ]
     },
     "execution_count": 39,
     "metadata": {},
     "output_type": "execute_result"
    }
   ],
   "source": [
    "type(m)"
   ]
  },
  {
   "cell_type": "markdown",
   "metadata": {},
   "source": [
    "7: What is the type of x?\n",
    "b = \"My, what a lovely day\"\n",
    "x = b.split(',')"
   ]
  },
  {
   "cell_type": "code",
   "execution_count": 44,
   "metadata": {},
   "outputs": [
    {
     "name": "stdout",
     "output_type": "stream",
     "text": [
      "['My', ' what a lovely day']\n"
     ]
    }
   ],
   "source": [
    "b = \"My, what a lovely day\"\n",
    "x = b.split(',')\n",
    "print(x)"
   ]
  },
  {
   "cell_type": "code",
   "execution_count": 42,
   "metadata": {},
   "outputs": [
    {
     "data": {
      "text/plain": [
       "list"
      ]
     },
     "execution_count": 42,
     "metadata": {},
     "output_type": "execute_result"
    }
   ],
   "source": [
    "type(x)"
   ]
  },
  {
   "cell_type": "markdown",
   "metadata": {},
   "source": [
    "8: What is the type of a?\n",
    "b = \"My, what a lovely day\"\n",
    "x = b.split(',')\n",
    "z = \"\".join(x)\n",
    "y = z.split()\n",
    "a = \"\".join(y)"
   ]
  },
  {
   "cell_type": "code",
   "execution_count": 52,
   "metadata": {},
   "outputs": [
    {
     "name": "stdout",
     "output_type": "stream",
     "text": [
      "1 <class 'str'>\n",
      "2 <class 'list'>\n",
      "3 <class 'str'>\n",
      "4 <class 'list'>\n",
      "5 <class 'str'>\n"
     ]
    }
   ],
   "source": [
    "b = \"My, what a lovely day\"\n",
    "print(\"1\",type(b))\n",
    "x = b.split(',')\n",
    "print(\"2\",type(x))\n",
    "z = \"\".join(x)\n",
    "print(\"3\",type(z))\n",
    "y = z.split()\n",
    "print(\"4\",type(y))\n",
    "a = \"\".join(y)\n",
    "print(\"5\",type(a))"
   ]
  },
  {
   "cell_type": "markdown",
   "metadata": {},
   "source": [
    "type of a is STRING\n"
   ]
  },
  {
   "cell_type": "markdown",
   "metadata": {},
   "source": [
    "9: rainfall_mi is a string that contains the average number of inches of rainfall in Michigan for every month (in inches) with every month separated by a comma. Write code to compute the number of months that have more than 3 inches of rainfall. Store the result in the variable num_rainy_months. In other words, count the number of items with values > 3.0.\n",
    "rainfall_mi = \"1.65, 1.46, 2.05, 3.03, 3.35, 3.46, 2.83, 3.23, 3.5, 2.52, 2.8, 1.85\""
   ]
  },
  {
   "cell_type": "code",
   "execution_count": 100,
   "metadata": {},
   "outputs": [
    {
     "name": "stdout",
     "output_type": "stream",
     "text": [
      "the number of rainy month is:  5\n"
     ]
    }
   ],
   "source": [
    "rainfall_mi = \"1.65, 1.46, 2.05, 3.03, 3.35, 3.46, 2.83, 3.23, 3.5, 2.52, 2.8, 1.85\"\n",
    "x=rainfall_mi.split(', ')\n",
    "count=0\n",
    "for i in (x):\n",
    "    if float(i)>3.0:\n",
    "        count+=1\n",
    "print(\"the number of rainy month is: \",count)"
   ]
  },
  {
   "cell_type": "markdown",
   "metadata": {},
   "source": [
    "10: The variable sentence stores a string. Write code to determine how many words in sentence start and end with the same letter, including one-letter words. Store the result in the variable same_letter_count.\n",
    "sentence = \"students flock to the arb for a variety of outdoor activities such as jogging and picnicking\""
   ]
  },
  {
   "cell_type": "code",
   "execution_count": 99,
   "metadata": {},
   "outputs": [
    {
     "name": "stdout",
     "output_type": "stream",
     "text": [
      "The same letter count is 2\n"
     ]
    }
   ],
   "source": [
    "sentence = \"students flock to the arb for a variety of outdoor activities such as jogging and picnicking\"\n",
    "x=sentence.split( )\n",
    "same_letter_count=0\n",
    "for i in x:\n",
    "    if i[0] == i[-1]:\n",
    "        same_letter_count+=1\n",
    "print(\"The same letter count is\",same_letter_count)"
   ]
  },
  {
   "cell_type": "markdown",
   "metadata": {},
   "source": [
    "11: Write code to count the number of strings in list items that have the character w in it. Assign that number to the variable acc_num.\n",
    "HINT 1: Use the accumulation pattern!\n",
    "HINT 2: the in operator checks whether a substring is present in a string.\n",
    "items = [\"whirring\", \"wow!\", \"calendar\", \"wry\", \"glass\", \"\", \"llama\",\"tumultuous\",\"owing\"]"
   ]
  },
  {
   "cell_type": "code",
   "execution_count": 112,
   "metadata": {},
   "outputs": [
    {
     "name": "stdout",
     "output_type": "stream",
     "text": [
      "4\n"
     ]
    }
   ],
   "source": [
    "items = [\"whirring\", \"wow!\", \"calendar\", \"wry\", \"glass\", \"\", \"llama\",\"tumultuous\",\"owing\"]\n",
    "c=0\n",
    "for i in items:\n",
    "    if \"w\" in i:\n",
    "        c+=1\n",
    "print(c)"
   ]
  },
  {
   "cell_type": "markdown",
   "metadata": {},
   "source": [
    "12: Write code that counts the number of words in sentence that contain either an “a” or an “e”. Store the result in the variable num_a_or_e.\n",
    "Note 1: be sure to not double-count words that contain both an a and an e.\n",
    "HINT 1: Use the in operator.\n",
    "HINT 2: You can either use or or elif.\n",
    "sentence = \"python is a high level general purpose programming language that can be applied to many different classes of problems.\""
   ]
  },
  {
   "cell_type": "code",
   "execution_count": 116,
   "metadata": {},
   "outputs": [
    {
     "name": "stdout",
     "output_type": "stream",
     "text": [
      "14\n"
     ]
    }
   ],
   "source": [
    "sentence = \"python is a high level general purpose programming language that can be applied to many different classes of problems.\"\n",
    "c=0\n",
    "for i in sentence.split():\n",
    "    if ('a' in i) or ('e' in i):\n",
    "        c+=1\n",
    "\n",
    "print(c)"
   ]
  },
  {
   "cell_type": "markdown",
   "metadata": {},
   "source": [
    "13: Write code that will count the number of vowels in the sentence s and assign the result to the variable num_vowels. For this problem, vowels are only a, e, i, o, and u. \n",
    "Hint: use the in operator with vowels.\n",
    "s = \"singing in the rain and playing in the rain are two entirely different situations but both can be fun\"\n",
    "vowels = ['a','e','i','o','u']"
   ]
  },
  {
   "cell_type": "code",
   "execution_count": 118,
   "metadata": {},
   "outputs": [
    {
     "name": "stdout",
     "output_type": "stream",
     "text": [
      "32\n"
     ]
    }
   ],
   "source": [
    "s = \"singing in the rain and playing in the rain are two entirely different situations but both can be fun\"\n",
    "vowels = ['a','e','i','o','u']\n",
    "nu_vo=0\n",
    "for i in s:\n",
    "    if i in vowels:\n",
    "        nu_vo+=1\n",
    "print(nu_vo)"
   ]
  },
  {
   "cell_type": "markdown",
   "metadata": {},
   "source": [
    "14: Which method would you use to figure out the position of an item in a list?\n",
    "A. .pop()\n",
    "B. .insert()\n",
    "C. .count()\n",
    "D. .index()"
   ]
  },
  {
   "cell_type": "code",
   "execution_count": null,
   "metadata": {},
   "outputs": [],
   "source": [
    ".index()"
   ]
  },
  {
   "cell_type": "markdown",
   "metadata": {},
   "source": [
    "15: Which method is best to use when adding an item to the end of a list?\n",
    "A. .insert()\n",
    "B. .pop()\n",
    "C. .append()\n",
    "D. .remove()"
   ]
  },
  {
   "cell_type": "code",
   "execution_count": null,
   "metadata": {},
   "outputs": [],
   "source": [
    ".append()"
   ]
  },
  {
   "cell_type": "markdown",
   "metadata": {},
   "source": [
    "16: Write code to add ‘horseback riding’ to the third position (i.e., right before volleyball) in the list sports.\n",
    "sports = ['cricket', 'football', 'volleyball', 'baseball', 'softball', 'track and field', 'curling', 'ping pong', 'hockey']"
   ]
  },
  {
   "cell_type": "code",
   "execution_count": 2,
   "metadata": {},
   "outputs": [
    {
     "name": "stdout",
     "output_type": "stream",
     "text": [
      "['cricket', 'football', 'horseback riding', 'volleyball', 'baseball', 'softball', 'track and field', 'curling', 'ping pong', 'hockey']\n"
     ]
    }
   ],
   "source": [
    "sports = ['cricket', 'football', 'volleyball', 'baseball', 'softball', 'track and field', 'curling', 'ping pong', 'hockey']\n",
    "x=sports.insert(2,\"horseback riding\")\n",
    "print(sports)"
   ]
  },
  {
   "cell_type": "markdown",
   "metadata": {},
   "source": [
    "Write code to take ‘London’ out of the list trav_dest.\n",
    "trav_dest = ['Beirut', 'Milan', 'Pittsburgh', 'Buenos Aires', 'Nairobi', 'Kathmandu', 'Osaka','London', 'Melbourne']\n"
   ]
  },
  {
   "cell_type": "code",
   "execution_count": null,
   "metadata": {},
   "outputs": [],
   "source": [
    "trav_dest = ['Beirut', 'Milan', 'Pittsburgh', 'Buenos Aires', 'Nairobi', 'Kathmandu', 'Osaka','London', 'Melbourne']\n",
    "x=trav_dest.remove('London')\n",
    "print(trav_dest)"
   ]
  },
  {
   "cell_type": "markdown",
   "metadata": {},
   "source": [
    "Write code to add ‘Guadalajara’ to the end of the list trav_dest using a list method.\n",
    "trav_dest = ['Beirut', 'Milan', 'Pittsburgh', 'Buenos Aires', 'Nairobi', 'Kathmandu', 'Osaka','Melbourne']"
   ]
  },
  {
   "cell_type": "code",
   "execution_count": 6,
   "metadata": {},
   "outputs": [
    {
     "name": "stdout",
     "output_type": "stream",
     "text": [
      "['Beirut', 'Milan', 'Pittsburgh', 'Buenos Aires', 'Nairobi', 'Kathmandu', 'Osaka', 'Melbourne', 'Guadalajara']\n"
     ]
    }
   ],
   "source": [
    "trav_dest = ['Beirut', 'Milan', 'Pittsburgh', 'Buenos Aires', 'Nairobi', 'Kathmandu', 'Osaka','Melbourne']\n",
    "x=trav_dest.append(\"Guadalajara\")\n",
    "print(trav_dest)"
   ]
  },
  {
   "cell_type": "markdown",
   "metadata": {},
   "source": [
    "19: Write code to rearrange the strings in the list winners so that they are in alphabetical order from A to Z.\n",
    "winners = ['Kazuo Ishiguro', 'Rainer Weiss', 'Youyou Tu', 'Malala Yousafzai', 'Alice Munro','Alvin E. Roth']"
   ]
  },
  {
   "cell_type": "code",
   "execution_count": 9,
   "metadata": {},
   "outputs": [
    {
     "name": "stdout",
     "output_type": "stream",
     "text": [
      "['Alice Munro', 'Alvin E. Roth', 'Kazuo Ishiguro', 'Malala Yousafzai', 'Rainer Weiss', 'Youyou Tu']\n"
     ]
    }
   ],
   "source": [
    "winners = ['Kazuo Ishiguro', 'Rainer Weiss', 'Youyou Tu', 'Malala Yousafzai', 'Alice Munro','Alvin E. Roth']\n",
    "x=winners.sort()\n",
    "print(winners)"
   ]
  },
  {
   "cell_type": "markdown",
   "metadata": {},
   "source": [
    "20: Write code to switch the order of the winners list so that it is now Z to A. Assign this list to the variable z_winners.\n",
    "winners = ['Alice Munro', 'Alvin E. Roth', 'Kazuo Ishiguro', 'Malala Yousafzai', 'RainerWeiss', 'Youyou Tu']"
   ]
  },
  {
   "cell_type": "code",
   "execution_count": 15,
   "metadata": {},
   "outputs": [
    {
     "name": "stdout",
     "output_type": "stream",
     "text": [
      "['Youyou Tu', 'RainerWeiss', 'Malala Yousafzai', 'Kazuo Ishiguro', 'Alvin E. Roth', 'Alice Munro']\n"
     ]
    }
   ],
   "source": [
    "winners = ['Alice Munro', 'Alvin E. Roth', 'Kazuo Ishiguro', 'Malala Yousafzai', 'RainerWeiss', 'Youyou Tu']\n",
    "x=winners.reverse()\n",
    "z_winners=winners\n",
    "print(z_winners)"
   ]
  },
  {
   "cell_type": "markdown",
   "metadata": {},
   "source": [
    "21.Which of these is the accumulator variable?\n",
    "byzo = 'hello world!'\n",
    "c = 0\n",
    "for x in byzo:\n",
    "z = x + \"!\"\n",
    "print(z)\n",
    "c = c + 1"
   ]
  },
  {
   "cell_type": "code",
   "execution_count": null,
   "metadata": {},
   "outputs": [],
   "source": [
    "c is the accumulator variable."
   ]
  },
  {
   "cell_type": "markdown",
   "metadata": {},
   "source": [
    "22.Which of these is the sequence?\n",
    "cawdra = ['candy', 'daisy', 'pear', 'peach', 'gem', 'crown']\n",
    "t = 0\n",
    "for elem in cawdra:\n",
    "t = t + len(elem)"
   ]
  },
  {
   "cell_type": "code",
   "execution_count": 16,
   "metadata": {},
   "outputs": [],
   "source": [
    "cawdra = ['candy', 'daisy', 'pear', 'peach', 'gem', 'crown']\n",
    "t = 0\n",
    "for elem in cawdra:\n",
    "    t = t + len(elem)"
   ]
  },
  {
   "cell_type": "markdown",
   "metadata": {},
   "source": [
    "cawdra is the sequence."
   ]
  },
  {
   "cell_type": "markdown",
   "metadata": {},
   "source": [
    "23.Which of these is the iterator (loop) variable?\n",
    "lst = [5, 10, 3, 8, 94, 2, 4, 9]\n",
    "num = 0\n",
    "for item in lst:\n",
    "num += item"
   ]
  },
  {
   "cell_type": "code",
   "execution_count": 17,
   "metadata": {},
   "outputs": [],
   "source": [
    "lst = [5, 10, 3, 8, 94, 2, 4, 9]\n",
    "num = 0\n",
    "for item in lst:\n",
    "    num += item"
   ]
  },
  {
   "cell_type": "markdown",
   "metadata": {},
   "source": [
    "item is the loop variable."
   ]
  },
  {
   "cell_type": "code",
   "execution_count": null,
   "metadata": {},
   "outputs": [],
   "source": [
    "24: What is the iterator (loop) variable in the following?\n",
    "rest = [\"sleep\", 'dormir', 'dormire', \"slaap\", 'sen', 'yuxu', 'yanam']\n",
    "let = ''\n",
    "for phrase in rest:\n",
    "let += phrase[0]"
   ]
  },
  {
   "cell_type": "markdown",
   "metadata": {},
   "source": [
    "phrase is the loop veariable."
   ]
  },
  {
   "cell_type": "markdown",
   "metadata": {},
   "source": [
    "25: Currently there is a string called str1. Write code to create a list called chars which should contain the characters from str1. Each character in str1 should be its own\n",
    "element in the list chars.\n",
    "str1 = \"I love python\""
   ]
  },
  {
   "cell_type": "code",
   "execution_count": 18,
   "metadata": {},
   "outputs": [
    {
     "name": "stdout",
     "output_type": "stream",
     "text": [
      "['I', ' ', 'l', 'o', 'v', 'e', ' ', 'p', 'y', 't', 'h', 'o', 'n']\n"
     ]
    }
   ],
   "source": [
    "str1 = \"I love python\"\n",
    "x=list(str1)\n",
    "print(x)"
   ]
  },
  {
   "cell_type": "markdown",
   "metadata": {},
   "source": [
    "26: Which of these is a correct reference diagram following the execution of the following code?\n",
    "lst = ['mercury', 'venus', 'earth', 'mars', 'jupiter', 'saturn', 'uranus', 'neptune', 'pluto']\n",
    "lst.remove('pluto')\n",
    "first_three = lst[:3]\n"
   ]
  },
  {
   "cell_type": "code",
   "execution_count": 20,
   "metadata": {},
   "outputs": [
    {
     "name": "stdout",
     "output_type": "stream",
     "text": [
      "['mercury', 'venus', 'earth', 'mars', 'jupiter', 'saturn', 'uranus', 'neptune']\n",
      "['mercury', 'venus', 'earth']\n"
     ]
    }
   ],
   "source": [
    "lst = ['mercury', 'venus', 'earth', 'mars', 'jupiter', 'saturn', 'uranus', 'neptune', 'pluto']\n",
    "lst.remove('pluto')\n",
    "first_three = lst[:3]\n",
    "print(lst)\n",
    "print(first_three)\n",
    "\n",
    "#i can't understand the question."
   ]
  },
  {
   "cell_type": "markdown",
   "metadata": {},
   "source": [
    "27: What will be the value of a after the following code has executed?\n",
    "a = [\"holiday\", \"celebrate!\"]\n",
    "quiet = a\n",
    "quiet.append(\"company\")\n",
    "The value of a will be"
   ]
  },
  {
   "cell_type": "code",
   "execution_count": 22,
   "metadata": {},
   "outputs": [
    {
     "name": "stdout",
     "output_type": "stream",
     "text": [
      "['holiday', 'celebrate!', 'company']\n"
     ]
    }
   ],
   "source": [
    "a = [\"holiday\", \"celebrate!\"]\n",
    "quiet = a\n",
    "quiet.append(\"company\")\n",
    "\n",
    "print(a)"
   ]
  },
  {
   "cell_type": "markdown",
   "metadata": {},
   "source": [
    "The value of a will be 3"
   ]
  },
  {
   "cell_type": "markdown",
   "metadata": {},
   "source": [
    "28: Could aliasing cause potential confusion in this problem?\n",
    "b = ['q', 'u', 'i']\n",
    "z = b\n",
    "b[1] = 'i'\n",
    "z.remove('i')\n",
    "print(z)"
   ]
  },
  {
   "cell_type": "code",
   "execution_count": 24,
   "metadata": {},
   "outputs": [
    {
     "name": "stdout",
     "output_type": "stream",
     "text": [
      "i\n",
      "['q', 'i']\n"
     ]
    }
   ],
   "source": [
    "b = ['q', 'u', 'i']\n",
    "z = b\n",
    "b[1] = 'i'\n",
    "print(b[1])\n",
    "z.remove('i')\n",
    "print(z)"
   ]
  },
  {
   "cell_type": "markdown",
   "metadata": {},
   "source": [
    "yes."
   ]
  },
  {
   "cell_type": "markdown",
   "metadata": {},
   "source": [
    "29: Given that we want to accumulate the total sum of a list of numbers, which of the following accumulator patterns would be appropriate?\n",
    "1.\n",
    "nums = [4, 5, 2, 93, 3, 5]\n",
    "s = 0\n",
    "for n in nums:\n",
    "    s = s + 1\n",
    "2.\n",
    "nums = [4, 5, 2, 93, 3, 5]\n",
    "s = 0\n",
    "for n in nums:\n",
    "    s = n + n\n",
    "3.\n",
    "nums = [4, 5, 2, 93, 3, 5]\n",
    "s = 0\n",
    "for n in nums:\n",
    "    s = s + n"
   ]
  },
  {
   "cell_type": "code",
   "execution_count": null,
   "metadata": {},
   "outputs": [],
   "source": [
    "1st one is the appropiate."
   ]
  },
  {
   "cell_type": "markdown",
   "metadata": {},
   "source": [
    "30: Given that we want to accumulate the total number of strings in the list, which of the following accumulator patterns would be appropriate?\n",
    "1.\n",
    "lst = ['plan', 'answer', 5, 9.29, 'order, items', [4]]\n",
    "s = 0\n",
    "for n in lst:\n",
    "    s = s + n\n",
    "2.\n",
    "lst = ['plan', 'answer', 5, 9.29, 'order, items', [4]]\n",
    "for item in lst:\n",
    "    s = 0\n",
    "    if type(item) == type(\"string\"):\n",
    "        s = s + 1\n",
    "3.\n",
    "lst = ['plan', 'answer', 5, 9.29, 'order, items', [4]]\n",
    "s = \"\"\n",
    "for n in lst:\n",
    "    s = s + n\n",
    "4.\n",
    "lst = ['plan', 'answer', 5, 9.29, 'order, items', [4]]\n",
    "s = 0\n",
    "for item in lst:\n",
    "    if type(item) == type(\"string\"):\n",
    "        s = s + 1"
   ]
  },
  {
   "cell_type": "code",
   "execution_count": 30,
   "metadata": {},
   "outputs": [
    {
     "name": "stdout",
     "output_type": "stream",
     "text": [
      "3\n"
     ]
    }
   ],
   "source": [
    "lst = ['plan', 'answer', 5, 9.29, 'order, items', [4]]\n",
    "s = 0\n",
    "for item in lst:\n",
    "    if type(item) == type(\"string\"):\n",
    "        s = s + 1\n",
    "print(s)"
   ]
  },
  {
   "cell_type": "markdown",
   "metadata": {},
   "source": [
    "furth one is the correct."
   ]
  },
  {
   "cell_type": "code",
   "execution_count": null,
   "metadata": {},
   "outputs": [],
   "source": [
    "31: Which of these are good names for an accumulator variable? Select as\n",
    "many as apply.\n",
    "A. sum\n",
    "B. x\n",
    "C. total\n",
    "D. accum\n",
    "E. none of the above\n",
    "\n",
    "accum or X are good namnes for accumulator variable."
   ]
  },
  {
   "cell_type": "code",
   "execution_count": null,
   "metadata": {},
   "outputs": [],
   "source": [
    "32: Which of these are good names for an iterator (loop) variable? Select as many as apply.\n",
    "A. item\n",
    "B. y\n",
    "C. elemD. char\n",
    "E. none of the above\n",
    "\n",
    "item, y, elemD, char all are good.\n"
   ]
  },
  {
   "cell_type": "code",
   "execution_count": null,
   "metadata": {},
   "outputs": [],
   "source": [
    "33: Which of these are good names for a sequence variable? Select as many as\n",
    "apply.\n",
    "A. num_lst\n",
    "B. p\n",
    "C. sentence\n",
    "D. names\n",
    "E. none of the above\n",
    "\n",
    "names, num_lst is suitable."
   ]
  },
  {
   "cell_type": "code",
   "execution_count": null,
   "metadata": {},
   "outputs": [],
   "source": [
    "34: Given the following scenario, what are good names for the accumulator variable, iterator variable, and sequence variable? You are writing code that uses a list of sentences and accumulates the total number of sentences that have the word ‘happy’ in\n",
    "them.\n",
    "A. accumulator variable: x | iterator variable: s | sequence variable: lst\n",
    "B. accumulator variable: total | iterator variable: s | sequence variable: lst\n",
    "C. accumulator variable: x | iterator variable: sentences | sequence variable: sentence_lst\n",
    "D. accumulator variable: total | iterator variable: sentence |sequence variable: sentence_lst\n",
    "E. none of the above"
   ]
  },
  {
   "cell_type": "code",
   "execution_count": 37,
   "metadata": {},
   "outputs": [
    {
     "name": "stdout",
     "output_type": "stream",
     "text": [
      "found in the starting index is 6\n",
      "found in the starting index is 21\n",
      "found in the starting index is 33\n"
     ]
    }
   ],
   "source": [
    "# accumulator variable: total | iterator variable: s | sequence variable: lst\n",
    "p=\"happy\"\n",
    "lst=\"there happy are many happy hello happy many \"\n",
    "x=len(p)\n",
    "for s in range(len(lst)-1):\n",
    "    total=0\n",
    "    while (total<x):\n",
    "        if (lst[s+total]==p[total]):\n",
    "            total=total+1\n",
    "        else:\n",
    "            break\n",
    "    if (total==x):\n",
    "        print(\"found in the starting index is\" ,s)"
   ]
  },
  {
   "cell_type": "code",
   "execution_count": null,
   "metadata": {},
   "outputs": [],
   "source": []
  }
 ],
 "metadata": {
  "kernelspec": {
   "display_name": "Python 3",
   "language": "python",
   "name": "python3"
  },
  "language_info": {
   "codemirror_mode": {
    "name": "ipython",
    "version": 3
   },
   "file_extension": ".py",
   "mimetype": "text/x-python",
   "name": "python",
   "nbconvert_exporter": "python",
   "pygments_lexer": "ipython3",
   "version": "3.7.4"
  }
 },
 "nbformat": 4,
 "nbformat_minor": 2
}
