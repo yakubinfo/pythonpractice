{
 "cells": [
  {
   "cell_type": "markdown",
   "metadata": {},
   "source": [
    "Question 1. Write a function called int_return that takes an integer as input and returns\n",
    "the same integer."
   ]
  },
  {
   "cell_type": "code",
   "execution_count": 1,
   "metadata": {},
   "outputs": [
    {
     "name": "stdout",
     "output_type": "stream",
     "text": [
      "enter a number: 2.5\n",
      "your entered no is:  2.5\n"
     ]
    }
   ],
   "source": [
    "def func1():\n",
    "    num=float(input(\"enter a number: \"))\n",
    "    print(\"your entered no is: \", num)\n",
    "func1()"
   ]
  },
  {
   "cell_type": "markdown",
   "metadata": {},
   "source": [
    "Question 2. Write a function called add that takes any number as its input and returns that\n",
    "sum with 2 added."
   ]
  },
  {
   "cell_type": "code",
   "execution_count": 2,
   "metadata": {},
   "outputs": [
    {
     "name": "stdout",
     "output_type": "stream",
     "text": [
      "enter a number: 2.5\n",
      "your sum is:  4.5\n"
     ]
    }
   ],
   "source": [
    "def func1():\n",
    "    s=0\n",
    "    num=float(input(\"enter a number: \"))\n",
    "    s=num+2\n",
    "    print(\"your sum is: \", s)\n",
    "func1()"
   ]
  },
  {
   "cell_type": "markdown",
   "metadata": {},
   "source": [
    "Question 3. Write a function called change that takes any string, adds “Nice to meet you!”\n",
    "to the end of the argument given, and returns that new string."
   ]
  },
  {
   "cell_type": "code",
   "execution_count": 3,
   "metadata": {},
   "outputs": [
    {
     "name": "stdout",
     "output_type": "stream",
     "text": [
      "please enter your name:) yakub\n",
      "yakub,nice to meet you\n"
     ]
    }
   ],
   "source": [
    "def change():\n",
    "    s1=str(input(\"please enter your name:) \"))\n",
    "    op=s1+ ','+ \"nice to meet you! \"\n",
    "    print(op)\n",
    "change()"
   ]
  },
  {
   "cell_type": "markdown",
   "metadata": {},
   "source": [
    "Question 4. Write a function, accum, that takes a list of integers as input and returns the\n",
    "sum of those integers."
   ]
  },
  {
   "cell_type": "code",
   "execution_count": 24,
   "metadata": {},
   "outputs": [
    {
     "name": "stdout",
     "output_type": "stream",
     "text": [
      "enter number of elements : 2\n",
      "enter the numbers with space seperated: 20 30\n",
      "list is:  [20, 30]\n",
      "the sum is:  50\n"
     ]
    }
   ],
   "source": [
    "def accum():\n",
    "    n = int(input(\"enter number of elements : \")) \n",
    "    a = list(map(int,input(\"enter the numbers with space seperated: \").split()))[:n]   \n",
    "    print(\"list is: \", a)\n",
    "    s=0\n",
    "    for i in range(0,len(a)):\n",
    "        s=s+a[i]\n",
    "    print(\"the sum is: \",s)\n",
    "accum()"
   ]
  },
  {
   "cell_type": "markdown",
   "metadata": {},
   "source": [
    "Question 5. Write a function, length, that takes in a list as the input. If the length of the list\n",
    "is greater than or equal to 5, return “Longer than 5”. If the length is less than 5, return\n",
    "“Less than 5”."
   ]
  },
  {
   "cell_type": "code",
   "execution_count": 29,
   "metadata": {},
   "outputs": [
    {
     "name": "stdout",
     "output_type": "stream",
     "text": [
      "enter the numbers with space seperated: 1 2 36 9\n",
      "list is:  [1, 2, 36, 9]\n",
      "less than 5\n"
     ]
    }
   ],
   "source": [
    "def length():\n",
    "    a = list(map(int,input(\"enter the numbers with space seperated: \").split()))\n",
    "    print(\"list is: \", a)\n",
    "    if len(a)>=5:\n",
    "        print(\"greater than 5\")\n",
    "    else:\n",
    "        print(\"less than 5\")\n",
    "length()"
   ]
  },
  {
   "cell_type": "markdown",
   "metadata": {},
   "source": [
    "Question 6. You will need to write two functions for this problem. The first function, divide\n",
    "that takes in any number and returns that same number divided by 2. The second function\n",
    "called sum should take any number, divide it by 2, and add 6. It should return this new\n",
    "number. You should call the divide function within the sum function. Do not worry about\n",
    "decimals."
   ]
  },
  {
   "cell_type": "code",
   "execution_count": 70,
   "metadata": {},
   "outputs": [
    {
     "name": "stdout",
     "output_type": "stream",
     "text": [
      "enter a no and see the magic: 3\n",
      "divide 1.5\n",
      "sum 7.5\n"
     ]
    }
   ],
   "source": [
    "def divide(x):\n",
    "    a=x/2\n",
    "    return a    \n",
    "def sum1(x):\n",
    "    return divide(x)+6        \n",
    "num=float(input(\"enter a no and see the magic: \"))\n",
    "print(\"divide\",divid(num))\n",
    "print(\"sum\",sum1(num))"
   ]
  },
  {
   "cell_type": "markdown",
   "metadata": {},
   "source": [
    "Question 7. The list below, tuples_lst, is a list of tuples. Create a list of the second\n",
    "elements of each tuple and assign this list to the variable country.\n",
    "tuples_lst = [(&#39;Beijing&#39;, &#39;China&#39;, 2008), (&#39;London&#39;, &#39;England&#39;, 2012), (&#39;Rio&#39;, &#39;Brazil&#39;, 2016,\n",
    "&#39;Current&#39;), (&#39;Tokyo&#39;, &#39;Japan&#39;, 2020, &#39;Future&#39;)]"
   ]
  },
  {
   "cell_type": "code",
   "execution_count": 81,
   "metadata": {},
   "outputs": [
    {
     "name": "stdout",
     "output_type": "stream",
     "text": [
      "Country: ['China', 'England', 'Brazil', 'Japan']\n"
     ]
    }
   ],
   "source": [
    "tuples_lst = [('Beijing', 'China', 2008), ('London', 'England', 2012), ('Rio', 'Brazil', 2016, 'Current'), ('Tokyo', 'Japan', 2020, 'Future')]\n",
    "from operator import itemgetter  \n",
    "country = list(map(itemgetter(1), tuples_lst)) \n",
    "print (\"Country: \" + str(country))"
   ]
  },
  {
   "cell_type": "markdown",
   "metadata": {},
   "source": [
    "Question 8. Define a function called info with five parameters: name, gender, age,\n",
    "bday_month, and hometown. The function should then return a tuple with all five\n",
    "parameters in that order."
   ]
  },
  {
   "cell_type": "code",
   "execution_count": 88,
   "metadata": {},
   "outputs": [
    {
     "name": "stdout",
     "output_type": "stream",
     "text": [
      "enter the details as name,gender,age,bday_month,hometown: miku male 28 nov jorhat\n",
      "('miku', 'male', '28', 'nov', 'jorhat')\n"
     ]
    }
   ],
   "source": [
    "def info(name,gender,age,bday_month,hometown):\n",
    "    return (name,gender,age,bday_month,hometown)\n",
    "a,b,c,d,e =input(\"enter the details as name,gender,age,bday_month,hometown: \").split()\n",
    "print(info(a,b,c,d,e))\n"
   ]
  },
  {
   "cell_type": "markdown",
   "metadata": {},
   "source": [
    "Question 9. Given is the dictionary, gold, which shows the country and the number of gold\n",
    "medals they have earned so far in the 2016 Olympics. Create a list, num_medals, that\n",
    "contains only the number of medals for each country. You must use the .items() method.\n",
    "Note: The .items() method provides a list of tuples. Do not use .keys() method."
   ]
  },
  {
   "cell_type": "code",
   "execution_count": 111,
   "metadata": {},
   "outputs": [
    {
     "name": "stdout",
     "output_type": "stream",
     "text": [
      "the list is:  ['12', '33', '15', '27', '19', '22', '8', '29']\n"
     ]
    }
   ],
   "source": [
    "golds = {\"Italy\": 12, \"USA\": 33, \"Brazil\": 15, \"China\": 27, \"Spain\": 19, \"Canada\": 22, \"Argentina\": 8, \"England\": 29}\n",
    "num_medals=[]\n",
    "for i,j in golds.items():\n",
    "    a=\"{}\".format(j)\n",
    "    num_medals.append(a)\n",
    "print(\"the list is: \", num_medals)"
   ]
  },
  {
   "cell_type": "markdown",
   "metadata": {},
   "source": [
    "Question 10. Write a function, sublist, that takes in a list of numbers as the parameter. Inthe function, use a while loop to return a sublist of the input list. The sublist should containthe same values of the original list up until it reaches the number 5 (it should not containthe number 5)"
   ]
  },
  {
   "cell_type": "code",
   "execution_count": 118,
   "metadata": {},
   "outputs": [
    {
     "name": "stdout",
     "output_type": "stream",
     "text": [
      "enter the numbers with space seperated: 1 6 3 9 7 4 2 4 99 2 5\n"
     ]
    },
    {
     "data": {
      "text/plain": [
       "[1, 6, 3, 9, 7, 4, 2, 4, 99, 2]"
      ]
     },
     "execution_count": 118,
     "metadata": {},
     "output_type": "execute_result"
    }
   ],
   "source": [
    "def sublist(a):\n",
    "    a = list(map(int,input(\"enter the numbers with space seperated: \").split()))\n",
    "    s= []\n",
    "    a = (n for n in a)\n",
    "    n = next(a, 5)  \n",
    "    while n != 5:\n",
    "        s.append(n)\n",
    "        n = next(a, 5)\n",
    "    return s\n",
    "sublist(a)"
   ]
  },
  {
   "cell_type": "markdown",
   "metadata": {},
   "source": [
    "Question 11. Write a function called check_nums that takes a list as its parameter, and\n",
    "contains a while loop that only stops once the element of the list is the number 7. What is\n",
    "returned is a list of all of the numbers up until it reaches 7."
   ]
  },
  {
   "cell_type": "code",
   "execution_count": 129,
   "metadata": {},
   "outputs": [
    {
     "name": "stdout",
     "output_type": "stream",
     "text": [
      "enter the element for the list:2\n",
      "enter the element for the list:3\n",
      "enter the element for the list:6\n",
      "enter the element for the list:7\n",
      "opps you input 7 so loop is going to break\n",
      "the final list is: [2, 3, 6, 7]\n"
     ]
    }
   ],
   "source": [
    "def check_nums(a):\n",
    "    x=[]\n",
    "    while True:\n",
    "        n=int(input(\"enter the element for the list:\"))\n",
    "        x.append(n)\n",
    "        if n==7:\n",
    "            print(\"opps you input 7 so loop is going to break\")\n",
    "            break\n",
    "    print(\"the final list is:\", x)\n",
    "check_nums(a)"
   ]
  },
  {
   "cell_type": "markdown",
   "metadata": {},
   "source": [
    "Question 12. Write a function, sublist, that takes in a list of strings as the parameter. In the\n",
    "function, use a while loop to return a sublist of the input list. The sublist should contain the\n",
    "same values of the original list up until it reaches the string “STOP” (it should not contain\n",
    "the string “STOP”)."
   ]
  },
  {
   "cell_type": "code",
   "execution_count": 5,
   "metadata": {},
   "outputs": [
    {
     "ename": "NameError",
     "evalue": "name 'a' is not defined",
     "output_type": "error",
     "traceback": [
      "\u001b[0;31m---------------------------------------------------------------------------\u001b[0m",
      "\u001b[0;31mNameError\u001b[0m                                 Traceback (most recent call last)",
      "\u001b[0;32m<ipython-input-5-160e6874d423>\u001b[0m in \u001b[0;36m<module>\u001b[0;34m\u001b[0m\n\u001b[1;32m      9\u001b[0m             \u001b[0;31m#x.append(n)\u001b[0m\u001b[0;34m\u001b[0m\u001b[0;34m\u001b[0m\u001b[0;34m\u001b[0m\u001b[0m\n\u001b[1;32m     10\u001b[0m     \u001b[0mprint\u001b[0m\u001b[0;34m(\u001b[0m\u001b[0;34m\"sublist\"\u001b[0m\u001b[0;34m,\u001b[0m \u001b[0mx\u001b[0m\u001b[0;34m)\u001b[0m\u001b[0;34m\u001b[0m\u001b[0;34m\u001b[0m\u001b[0m\n\u001b[0;32m---> 11\u001b[0;31m \u001b[0msublist\u001b[0m\u001b[0;34m(\u001b[0m\u001b[0ma\u001b[0m\u001b[0;34m)\u001b[0m\u001b[0;34m\u001b[0m\u001b[0;34m\u001b[0m\u001b[0m\n\u001b[0m",
      "\u001b[0;31mNameError\u001b[0m: name 'a' is not defined"
     ]
    }
   ],
   "source": [
    "def sublist(a):\n",
    "    n=str(input(\"enter string values: \"))\n",
    "    x=[]\n",
    "    while n!=\"STOP\" or n!=\"stop\":\n",
    "        #n=str(input(\"enter string values: \"))\n",
    "        x.append(n)\n",
    "        #if n==\"STOP\" or n==\"stop\":    \n",
    "            #break\n",
    "            #x.append(n)\n",
    "    print(\"sublist\", x)\n",
    "sublist(a)"
   ]
  },
  {
   "cell_type": "markdown",
   "metadata": {},
   "source": [
    "Question 13. Write a function called stop_at_z that iterates through a list of strings. Using\n",
    "a while loop, append each string to a new list until the string that appears is “z”. The\n",
    "function should return the new list."
   ]
  },
  {
   "cell_type": "code",
   "execution_count": 138,
   "metadata": {},
   "outputs": [
    {
     "name": "stdout",
     "output_type": "stream",
     "text": [
      "enter the strings with space seperated: a b n g ls z\n"
     ]
    },
    {
     "data": {
      "text/plain": [
       "['a', 'b', 'n', 'g', 'ls']"
      ]
     },
     "execution_count": 138,
     "metadata": {},
     "output_type": "execute_result"
    }
   ],
   "source": [
    "def sublist(a):\n",
    "    a = list(map(str,input(\"enter the strings with space seperated: \").split()))\n",
    "    s= []\n",
    "    a = (n for n in a)\n",
    "    n = next(a, \"z\")  \n",
    "    while n != \"z\":\n",
    "        s.append(n)\n",
    "        n = next(a, \"z\")\n",
    "    return s\n",
    "sublist(a)"
   ]
  },
  {
   "cell_type": "markdown",
   "metadata": {},
   "source": [
    "Question 14. Below is a for loop that works. Underneath the for loop, rewrite the problem\n",
    "so that it does the same thing, but using a while loop instead of a for loop. Assign the\n",
    "accumulated total in the while loop code to the variable sum2. Once complete, sum2\n",
    "should equal sum1.\n",
    "\n",
    "\n",
    "sum1 = 0\n",
    "\n",
    "lst = [65, 78, 21, 33]\n",
    "\n",
    "for x in lst:\n",
    "sum1 = sum1 + x"
   ]
  },
  {
   "cell_type": "code",
   "execution_count": 148,
   "metadata": {},
   "outputs": [
    {
     "name": "stdout",
     "output_type": "stream",
     "text": [
      "65\n",
      "143\n",
      "164\n",
      "197\n",
      "with while loop:   197\n"
     ]
    }
   ],
   "source": [
    "sum1 = 0\n",
    "lst = [65, 78, 21, 33]\n",
    "for x in lst: \n",
    "    sum1 = sum1 + x\n",
    "    print(sum1)\n",
    "    \n",
    "######### or ###########\n",
    "\n",
    "sum2=0\n",
    "a=0\n",
    "lst = [65, 78, 21, 33]\n",
    "while a<len(lst):\n",
    "    sum2=sum2+lst[a]\n",
    "    a+=1\n",
    "print(\"with while loop:  \",sum2)"
   ]
  },
  {
   "cell_type": "markdown",
   "metadata": {},
   "source": [
    "Question 15. Write a function called beginning that takes a list as input and contains a\n",
    "while loop that only stops once the element of the list is the string ‘bye’. What is returned is\n",
    "a list that contains up to the first 10 strings, regardless of where the loop stops. (i.e., if it\n",
    "stops on the 32nd element, the first 10 are returned. If “bye” is the 5th element, the first 4\n",
    "are returned.) If you want to make this even more of a challenge, do this without slicing"
   ]
  },
  {
   "cell_type": "code",
   "execution_count": 10,
   "metadata": {},
   "outputs": [
    {
     "name": "stdout",
     "output_type": "stream",
     "text": [
      "enter string: sdvbs\n",
      "enter string: sdvskldvnblsd\n",
      "enter string: sbvsdbvls\n",
      "enter string: sdbsl\n",
      "enter string: bye\n",
      "['sdvbs', 'sdvskldvnblsd', 'sbvsdbvls', 'sdbsl', 'bye']\n"
     ]
    }
   ],
   "source": [
    "def beginning():\n",
    "    s1=[]\n",
    "    while True:\n",
    "        n=str(input(\"enter string: \"))\n",
    "        s1.append(n)\n",
    "        if n==\"bye\":\n",
    "            break\n",
    "    print(s1)\n",
    "beginning()\n",
    "\n",
    "def beginning(x):\n",
    "    n = 0\n",
    "    lst = []\n",
    "    while \"bye\" not in x[n] and n < 10:\n",
    "        lst.append(x[n])\n",
    "        n = n + 1\n",
    "    return lst"
   ]
  },
  {
   "cell_type": "markdown",
   "metadata": {},
   "source": [
    "Question 16. Create a function called mult that has two parameters, the first is required and should be an integer, the second is an optional parameter that can either be a number or a string but whose default is 6. The function should return the first parameter multiplied\n",
    "by the second."
   ]
  },
  {
   "cell_type": "code",
   "execution_count": 20,
   "metadata": {},
   "outputs": [
    {
     "name": "stdout",
     "output_type": "stream",
     "text": [
      "enter a no and see the magic: 3\n",
      "divide 18.0\n"
     ]
    }
   ],
   "source": [
    "def mult(a, b=6):\n",
    "    return a * b\n",
    "num=float(input(\"enter a no and see the magic: \"))\n",
    "print(\"divide\",mult(num))"
   ]
  },
  {
   "cell_type": "markdown",
   "metadata": {},
   "source": [
    "Question 17. The following function, greeting, does not work. Please fix the code so that it\n",
    "runs without error. This only requires one change in the definition of the function.\n",
    "def greeting(greeting=&quot;Hello &quot;, name, excl=&quot;!&quot;):\n",
    "return greeting + name + excl\n",
    "print(greeting(&quot;Bob&quot;))\n",
    "print(greeting(&quot;&quot;))\n",
    "print(greeting(&quot;Bob&quot;, excl=&quot;!!!&quot;))"
   ]
  },
  {
   "cell_type": "code",
   "execution_count": 26,
   "metadata": {},
   "outputs": [
    {
     "ename": "SyntaxError",
     "evalue": "non-default argument follows default argument (<ipython-input-26-4f828e5b47d0>, line 1)",
     "output_type": "error",
     "traceback": [
      "\u001b[0;36m  File \u001b[0;32m\"<ipython-input-26-4f828e5b47d0>\"\u001b[0;36m, line \u001b[0;32m1\u001b[0m\n\u001b[0;31m    def greeting(greeting=\"Hello \", name, excl=\"!\"):\u001b[0m\n\u001b[0m                ^\u001b[0m\n\u001b[0;31mSyntaxError\u001b[0m\u001b[0;31m:\u001b[0m non-default argument follows default argument\n"
     ]
    }
   ],
   "source": [
    "## buged one\n",
    "def greeting(greeting=\"Hello \",name,excl=\"!\"):\n",
    "        return greeting + name + excl \n",
    "print(greeting(\"Bob\")) \n",
    "print(greeting(\"\")) \n",
    "print(greeting(\"Bob\" ,excl=\"!!!\"))\n",
    "\n",
    "################ correct one################\n",
    "## correct one\n",
    "def greeting(name,greeting=\"Hello \",excl=\"!\"): #can't have non-default args after defaults.\n",
    "        return greeting + name + excl \n",
    "print(greeting(\"Bob\")) \n",
    "print(greeting(\"\")) \n",
    "print(greeting(\"Bob\" ,excl=\"!!!\"))\n",
    "\n",
    "################# output #################\n",
    "Hello Bob!\n",
    "Hello !\n",
    "Hello Bob!!"
   ]
  },
  {
   "cell_type": "markdown",
   "metadata": {},
   "source": [
    "Question 18. Below is a function, sum, that does not work. Change the function definition so the code\n",
    "works. The function should still have a required parameter, intx, and an optional parameter, intz with a\n",
    "defualt value of 5."
   ]
  },
  {
   "cell_type": "code",
   "execution_count": null,
   "metadata": {},
   "outputs": [],
   "source": [
    "#####no functon found###########"
   ]
  },
  {
   "cell_type": "markdown",
   "metadata": {},
   "source": [
    "Question 19. Write a function, test, that takes in three parameters: a required integer, an optional boolean\n",
    "whose default value is True, and an optional dictionary, called dict1, whose default value is {2:3, 4:5, 6:8}. If\n",
    "the boolean parameter is True, the function should test to see if the integer is a key in the dictionary. The\n",
    "value of that key should then be returned. If the boolean parameter is False, return the boolean value\n",
    "“False”."
   ]
  },
  {
   "cell_type": "code",
   "execution_count": 52,
   "metadata": {},
   "outputs": [
    {
     "name": "stdout",
     "output_type": "stream",
     "text": [
      "enter a no: 4\n",
      "5\n"
     ]
    }
   ],
   "source": [
    "def f1(a, b=True, dict1={2:3, 4:5, 6:8}):\n",
    "    return b and dict1.get(a, False)\n",
    "n=int(input(\"enter a no: \"))\n",
    "print(f1(n))"
   ]
  },
  {
   "cell_type": "markdown",
   "metadata": {},
   "source": [
    "Question 20: Write a function called checkingIfIn that takes three parameters. The first is\n",
    "a required parameter, which should be a string. The second is an optional parameter\n",
    "called direction with a default value of True. The third is an optional parameter called d that\n",
    "has a default value of {&#39;apple&#39;: 2, &#39;pear&#39;: 1, &#39;fruit&#39;: 19, &#39;orange&#39;: 5, &#39;banana&#39;: 3, &#39;grapes&#39;: 2,\n",
    "&#39;watermelon&#39;: 7}. Write the function checkingIfIn so that when the second parameter is\n",
    "True, it checks to see if the first parameter is a key in the third parameter; if it is, return\n",
    "True, otherwise return False.\n",
    "But if the second paramter is False, then the function should check to see if the first\n",
    "parameter is not a key of the third. If it’s not, the function should return True in this case,\n",
    "and if it is, it should return False."
   ]
  },
  {
   "cell_type": "code",
   "execution_count": 85,
   "metadata": {},
   "outputs": [
    {
     "name": "stdout",
     "output_type": "stream",
     "text": [
      "enter a fruit name:banana\n",
      "your entered fruit name is:  True\n"
     ]
    }
   ],
   "source": [
    "def checkingIfIn(i, direction = True, dict1 = {'apple': 2, 'pear': 1, 'fruit': 19, 'orange': 5, 'banana': 3, 'grapes': 2, 'watermelon': 7}):\n",
    "    if direction == True:\n",
    "        if i in dict1:\n",
    "            return True \n",
    "        else:\n",
    "            return False\n",
    "    else:\n",
    "        if i not in dict1:\n",
    "            return True\n",
    "        else:\n",
    "            return False\n",
    "n=input(\"enter a fruit name:\")\n",
    "print(\"your entered fruit name is: \",checkingIfIn(n))"
   ]
  },
  {
   "cell_type": "code",
   "execution_count": null,
   "metadata": {},
   "outputs": [],
   "source": [
    "Question 21. We have provided the function checkingIfIn such that if the first input parameter is in the third,\n",
    "dictionary, input parameter, then the function returns that value, and otherwise, it returns False. Follow the\n",
    "instructions in the active code window for specific variable assignmemts.\n",
    "def checkingIfIn(a, direction = True, d = {&#39;apple&#39;: 2, &#39;pear&#39;: 1, &#39;fruit&#39;: 19, &#39;orange&#39;: 5, &#39;banana&#39;: 3, &#39;grapes&#39;: 2,\n",
    "&#39;watermelon&#39;: 7}):\n",
    "if direction == True:\n",
    "if a in d:\n",
    "return d[a]\n",
    "else:\n",
    "return False\n",
    "else:\n",
    "if a not in d:\n",
    "return True\n",
    "\n",
    "else:\n",
    "return d[a]\n",
    "# Call the function so that it returns False and assign that function call to the variable c_false\n",
    "# Call the fucntion so that it returns True and assign it to the variable c_true\n",
    "# Call the function so that the value of fruit is assigned to the variable fruit_ans\n",
    "# Call the function using the first and third parameter so that the value 8 is assigned to the variable\n",
    "param_check"
   ]
  },
  {
   "cell_type": "code",
   "execution_count": 92,
   "metadata": {},
   "outputs": [
    {
     "name": "stdout",
     "output_type": "stream",
     "text": [
      "False\n",
      "2\n",
      "19\n",
      "2\n"
     ]
    }
   ],
   "source": [
    "def checkingIfIn(a, direction = True, d = {'apple': 2, 'pear': 1, 'fruit': 19, 'orange': 5, 'banana': 3, 'grapes': 2, 'watermelon': 7}):\n",
    "    if direction == True:\n",
    "        if a in d:\n",
    "            return d[a]\n",
    "        else:\n",
    "            return False\n",
    "    else:\n",
    "        if a not in d:\n",
    "            return True\n",
    "        else:\n",
    "            return d[a]\n",
    "\n",
    "# Call the function so that it returns False and assign that function call to the variable c_false\n",
    "c_false = checkingIfIn('p')\n",
    "# Call the fucntion so that it returns True and assign it to the variable c_true\n",
    "c_true = checkingIfIn(\"apple\")\n",
    "# Call the function so that the value of fruit is assigned to the variable fruit_ans\n",
    "fruit_ans= checkingIfIn('fruit')\n",
    "# Call the function using the first and third parameter so that the value 8 is assigned to the variable param_check\n",
    "param_check = checkingIfIn('apple',{'apple': 2, 'pear': 1, 'fruit': 19, 'orange': 5, 'banana': 3, 'grapes': 2, 'watermelon': 7})\n",
    "print(c_false)\n",
    "print(c_true)\n",
    "print(fruit_ans)\n",
    "print(param_check)## this is i can't figure it"
   ]
  },
  {
   "cell_type": "markdown",
   "metadata": {},
   "source": [
    "Question 22. Create a function called last_four that takes in an ID number and returns the last four digits.\n",
    "For example, the number 17573005 should return 3005. Then, use this function to sort the list of ids stored in\n",
    "the variable, ids, from lowest to highest. Save this sorted list in the variable, sorted_ids. Hint: Remember that\n",
    "only strings can be indexed, so conversions may be needed.\n",
    "def last_four(x):\n",
    "ids = [17573005, 17572342, 17579000, 17570002, 17572345, 17579329]"
   ]
  },
  {
   "cell_type": "code",
   "execution_count": 3,
   "metadata": {},
   "outputs": [
    {
     "name": "stdout",
     "output_type": "stream",
     "text": [
      "the sorted list is:  ['17570002', '17572342', '17572345', '17573005', '17579000', '17579329']\n"
     ]
    }
   ],
   "source": [
    "ids = [17573005, 17572342, 17579000, 17570002, 17572345, 17579329]\n",
    "x=[]\n",
    "for i in ids:\n",
    "    x.append(str(i).split(\"1757\")[1])\n",
    "j=sorted(x)\n",
    "sorted_id=[]\n",
    "for k in j:\n",
    "    sorted_id.append('1757'+k)\n",
    "print(\"the sorted list is: \",sorted_id)"
   ]
  },
  {
   "cell_type": "markdown",
   "metadata": {},
   "source": [
    "Question 23. Sort the list ids by the last four digits of each id. Do this using lambda and not using a defined\n",
    "function. Save this sorted list in the variable sorted_id.\n",
    "Ids = [17573005, 17572342, 17579000, 17570002, 17572345, 17579329]"
   ]
  },
  {
   "cell_type": "code",
   "execution_count": 16,
   "metadata": {},
   "outputs": [
    {
     "name": "stdout",
     "output_type": "stream",
     "text": [
      "[17570002, 17572342, 17572345, 17573005, 17579000, 17579329]\n"
     ]
    }
   ],
   "source": [
    "ids = [17573005, 17572342, 17579000, 17570002, 17572345, 17579329]\n",
    "ids.sort(key=lambda x: str(x)[-4:])\n",
    "print(ids)"
   ]
  },
  {
   "cell_type": "markdown",
   "metadata": {},
   "source": [
    "Question 24. Sort the following list by each element’s second letter a to z. Do so by using lambda. Assign\n",
    "the resulting value to the variable lambda_sort.\n",
    "ex_lst = [&#39;hi&#39;, &#39;how are you&#39;, &#39;bye&#39;, &#39;apple&#39;, &#39;zebra&#39;, &#39;dance&#39;]"
   ]
  },
  {
   "cell_type": "code",
   "execution_count": 19,
   "metadata": {},
   "outputs": [
    {
     "name": "stdout",
     "output_type": "stream",
     "text": [
      "['dance', 'zebra', 'hi', 'how are you', 'apple', 'bye']\n"
     ]
    }
   ],
   "source": [
    "x=['hi', 'how are you', 'bye', 'apple', 'zebra', 'dance']\n",
    "x.sort(key=lambda x:x[1])\n",
    "print(x)"
   ]
  },
  {
   "cell_type": "markdown",
   "metadata": {},
   "source": [
    "Question 25. The variable nested contains a nested list. Assign ‘snake’ to the variable output using\n",
    "indexing.\n",
    "nested = [[&#39;dog&#39;, &#39;cat&#39;, &#39;horse&#39;], [&#39;frog&#39;, &#39;turtle&#39;, &#39;snake&#39;, &#39;gecko&#39;], [&#39;hamster&#39;, &#39;gerbil&#39;, &#39;rat&#39;, &#39;ferret&#39;]]"
   ]
  },
  {
   "cell_type": "code",
   "execution_count": 25,
   "metadata": {},
   "outputs": [
    {
     "name": "stdout",
     "output_type": "stream",
     "text": [
      "['frog', 'turtle', 'snake', 'gecko']\n",
      "snake\n",
      "snake\n"
     ]
    }
   ],
   "source": [
    "nested = [['dog', 'cat', 'horse'], ['frog', 'turtle', 'snake', 'gecko'], ['hamster', 'gerbil', 'rat', 'ferret']]\n",
    "op = nested[1]\n",
    "print(op)\n",
    "output=op[2]\n",
    "print(output)\n",
    "#####################\n",
    "output1=nested[1][2]\n",
    "print(output1)"
   ]
  },
  {
   "cell_type": "markdown",
   "metadata": {},
   "source": [
    "Question 26. Below, a list of lists is provided. Use in and not in tests to create variables with Boolean values.\n",
    "See comments for further instructions.\n",
    "lst = [[&#39;apple&#39;, &#39;orange&#39;, &#39;banana&#39;], [5, 6, 7, 8, 9.9, 10], [&#39;green&#39;, &#39;yellow&#39;, &#39;purple&#39;, &#39;red&#39;]]"
   ]
  },
  {
   "cell_type": "code",
   "execution_count": 26,
   "metadata": {},
   "outputs": [
    {
     "name": "stdout",
     "output_type": "stream",
     "text": [
      "True\n",
      "False\n",
      "True\n"
     ]
    }
   ],
   "source": [
    "lst = [['apple', 'orange', 'banana'], [5, 6, 7, 8, 9.9, 10], ['green', 'yellow', 'purple', 'red']]\n",
    "#Test to see if &#39;yellow&#39; is in the third list of lst. Save to variable ``yellow``\n",
    "yellow=\"yellow\" in lst[2]\n",
    "print(yellow)\n",
    "#Test to see if 4 is in the second list of lst. Save to variable ``four``\n",
    "four=4 in lst[1]\n",
    "print(four)\n",
    "#Test to see if &#39;orange&#39; is in the first element of lst. Save to variable ``orange``\n",
    "orange=\"orange\" in lst[0][1]\n",
    "print(orange)"
   ]
  },
  {
   "cell_type": "markdown",
   "metadata": {},
   "source": [
    "Question 27. The variable nested_d contains a nested dictionary with the gold medal counts for the top four\n",
    "countries in the past three Olympics. Assign the value of Great Britain’s gold medal count from the London\n",
    "Olympics to the variable london_gold. Use indexing.\n",
    "nested_d = {&#39;Beijing&#39;:{&#39;China&#39;:51, &#39;USA&#39;:36, &#39;Russia&#39;:22, &#39;Great Britain&#39;:19}, &#39;London&#39;:{&#39;USA&#39;:46, &#39;China&#39;:38,\n",
    "&#39;Great Britain&#39;:29, &#39;Russia&#39;:22}, &#39;Rio&#39;:{&#39;USA&#39;:35, &#39;Great Britain&#39;:22, &#39;China&#39;:20, &#39;Germany&#39;:13}}"
   ]
  },
  {
   "cell_type": "code",
   "execution_count": 34,
   "metadata": {},
   "outputs": [
    {
     "name": "stdout",
     "output_type": "stream",
     "text": [
      "gold for GB:  29\n"
     ]
    }
   ],
   "source": [
    "nested_d = {'Beijing':{'China':51, 'USA':36, 'Russia':22, 'Great Britain':19}, 'London':{'USA':46, 'China':38, 'Great Britain':29, 'Russia':22}, 'Rio':{'USA':35, 'Great Britain':22, 'China':20, 'Germany':13}}\n",
    "#print(nested_d)\n",
    "london_gold=nested_d['London']['Great Britain']\n",
    "print(\"gold for GB: \",london_gold)                     "
   ]
  },
  {
   "cell_type": "markdown",
   "metadata": {},
   "source": [
    "Question 28. Given the dictionary, nested_d, save the medal count for the USA from all three Olympics in\n",
    "the dictionary to the list US_count.\n",
    "nested_d = {&#39;Beijing&#39;:{&#39;China&#39;:51, &#39;USA&#39;:36, &#39;Russia&#39;:22, &#39;Great Britain&#39;:19}, &#39;London&#39;:{&#39;USA&#39;:46, &#39;China&#39;:38,\n",
    "&#39;Great Britain&#39;:29, &#39;Russia&#39;:22}, &#39;Rio&#39;:{&#39;USA&#39;:35, &#39;Great Britain&#39;:22, &#39;China&#39;:20, &#39;Germany&#39;:13}}\n",
    "US_count = []"
   ]
  },
  {
   "cell_type": "code",
   "execution_count": 36,
   "metadata": {},
   "outputs": [
    {
     "name": "stdout",
     "output_type": "stream",
     "text": [
      "[36, 46, 35]\n"
     ]
    }
   ],
   "source": [
    "nested_d = {'Beijing':{'China':51, 'USA':36, 'Russia':22, 'Great Britain':19}, 'London':{'USA':46, 'China':38, 'Great Britain':29, 'Russia':22}, 'Rio':{'USA':35, 'Great Britain':22, 'China':20, 'Germany':13}}\n",
    "US_count = []\n",
    "US_count.append(nested_d['Beijing']['USA'])\n",
    "US_count.append(nested_d['London']['USA'])\n",
    "US_count.append(nested_d['Rio']['USA'])\n",
    "print(US_count)"
   ]
  },
  {
   "cell_type": "markdown",
   "metadata": {},
   "source": [
    "Question 29. Iterate through the contents of l_of_l and assign the third element of sublist to a new list called\n",
    "third.\n",
    "l_of_l = [[&#39;purple&#39;, &#39;mauve&#39;, &#39;blue&#39;], [&#39;red&#39;, &#39;maroon&#39;, &#39;blood orange&#39;, &#39;crimson&#39;], [&#39;sea green&#39;, &#39;cornflower&#39;,\n",
    "&#39;lavender&#39;, &#39;indigo&#39;], [&#39;yellow&#39;, &#39;amarillo&#39;, &#39;mac n cheese&#39;, &#39;golden rod&#39;]]"
   ]
  },
  {
   "cell_type": "code",
   "execution_count": 40,
   "metadata": {},
   "outputs": [
    {
     "name": "stdout",
     "output_type": "stream",
     "text": [
      "['blue', 'blood orange', 'lavender', 'mac n cheese']\n"
     ]
    }
   ],
   "source": [
    "l_of_l = [['purple', 'mauve', 'blue'], ['red', 'maroon', 'blood orange', 'crimson'], ['sea green', 'cornflower', 'lavender', 'indigo'], ['yellow', 'amarillo', 'mac n cheese', 'golden rod']]\n",
    "third=[]\n",
    "for i in l_of_l:\n",
    "    third.append(i[2])\n",
    "print(third)"
   ]
  },
  {
   "cell_type": "markdown",
   "metadata": {},
   "source": [
    "Question 30. Given below is a list of lists of athletes. Create a list, t, that saves only the athlete’s name if it\n",
    "contains the letter “t”. If it does not contain the letter “t”, save the athlete name into list other.\n",
    "athletes = [[&#39;Phelps&#39;, &#39;Lochte&#39;, &#39;Schooling&#39;, &#39;Ledecky&#39;, &#39;Franklin&#39;], [&#39;Felix&#39;, &#39;Bolt&#39;, &#39;Gardner&#39;, &#39;Eaton&#39;], [&#39;Biles&#39;,\n",
    "&#39;Douglas&#39;, &#39;Hamm&#39;, &#39;Raisman&#39;, &#39;Mikulak&#39;, &#39;Dalton&#39;]]"
   ]
  },
  {
   "cell_type": "code",
   "execution_count": 45,
   "metadata": {},
   "outputs": [
    {
     "name": "stdout",
     "output_type": "stream",
     "text": [
      "with t:  ['Lochte', 'Bolt', 'Eaton', 'Dalton']\n",
      "without t:  ['Phelps', 'Schooling', 'Ledecky', 'Franklin', 'Felix', 'Gardner', 'Biles', 'Douglas', 'Hamm', 'Raisman', 'Mikulak']\n"
     ]
    }
   ],
   "source": [
    "athletes = [['Phelps', 'Lochte', 'Schooling', 'Ledecky', 'Franklin'], ['Felix', 'Bolt', 'Gardner', 'Eaton'], ['Biles', 'Douglas', 'Hamm', 'Raisman', 'Mikulak', 'Dalton']]\n",
    "a=[]\n",
    "b=[]\n",
    "for i in athletes:\n",
    "    for j in i:\n",
    "        if \"t\" in j:\n",
    "            a.append(j)\n",
    "        else:\n",
    "            b.append(j)\n",
    "print(\"with t: \",a)\n",
    "print(\"without t: \",b)\n",
    "            "
   ]
  },
  {
   "cell_type": "markdown",
   "metadata": {},
   "source": [
    "Question 31. Write code to assign to the variable map_testing all the elements in lst_check while adding the\n",
    "string “Fruit: ” to the beginning of each element using mapping.\n",
    "lst_check = [&#39;plums&#39;, &#39;watermelon&#39;, &#39;kiwi&#39;, &#39;strawberries&#39;, &#39;blueberries&#39;, &#39;peaches&#39;, &#39;apples&#39;, &#39;mangos&#39;, &#39;papaya&#39;]"
   ]
  },
  {
   "cell_type": "code",
   "execution_count": 48,
   "metadata": {},
   "outputs": [
    {
     "name": "stdout",
     "output_type": "stream",
     "text": [
      "['Fruit: plums', 'Fruit: watermelon', 'Fruit: kiwi', 'Fruit: strawberries', 'Fruit: blueberries', 'Fruit: peaches', 'Fruit: apples', 'Fruit: mangos', 'Fruit: papaya']\n"
     ]
    }
   ],
   "source": [
    "lst_check = ['plums', 'watermelon', 'kiwi', 'strawberries', 'blueberries', 'peaches', 'apples', 'mangos', 'papaya']\n",
    "maptesting = map(lambda str: \"Fruit: \" + str, lst_check)\n",
    "print(list(maptesting))"
   ]
  },
  {
   "cell_type": "markdown",
   "metadata": {},
   "source": [
    "Question 32. Below, we have provided a list of strings called countries. Use filter to produce a list called\n",
    "b_countries that only contains the strings from countries that begin with B.\n",
    "countries = [&#39;Canada&#39;, &#39;Mexico&#39;, &#39;Brazil&#39;, &#39;Chile&#39;, &#39;Denmark&#39;, &#39;Botswana&#39;, &#39;Spain&#39;, &#39;Britain&#39;, &#39;Portugal&#39;, &#39;Russia&#39;,\n",
    "&#39;Thailand&#39;, &#39;Bangladesh&#39;, &#39;Nigeria&#39;, &#39;Argentina&#39;, &#39;Belarus&#39;, &#39;Laos&#39;, &#39;Australia&#39;, &#39;Panama&#39;, &#39;Egypt&#39;, &#39;Morocco&#39;,\n",
    "&#39;Switzerland&#39;, &#39;Belgium&#39;]"
   ]
  },
  {
   "cell_type": "code",
   "execution_count": 52,
   "metadata": {},
   "outputs": [
    {
     "name": "stdout",
     "output_type": "stream",
     "text": [
      "['Brazil', 'Botswana', 'Britain', 'Bangladesh', 'Belarus', 'Belgium']\n",
      "['Brazil', 'Botswana', 'Britain', 'Bangladesh', 'Belarus', 'Belgium']\n"
     ]
    }
   ],
   "source": [
    "countries = ['Canada', 'Mexico', 'Brazil', 'Chile', 'Denmark', 'Botswana', 'Spain', 'Britain', 'Portugal', 'Russia', 'Thailand', 'Bangladesh', 'Nigeria', 'Argentina', 'Belarus', 'Laos', 'Australia', 'Panama', 'Egypt', 'Morocco', 'Switzerland', 'Belgium']\n",
    "b=[]\n",
    "for i in countries:\n",
    "    if \"B\" in i:\n",
    "        b.append(i)\n",
    "print(b)\n",
    "\n",
    "#####################################\n",
    "\n",
    "c=filter(lambda i: \"B\" in i,countries )\n",
    "print(list(c))"
   ]
  },
  {
   "cell_type": "markdown",
   "metadata": {},
   "source": [
    "Question 33. Below, we have provided a list of tuples that contain the names of Game of Thrones\n",
    "characters. Using list comprehension, create a list of strings called first_names that contains only the first\n",
    "names of everyone in the original list.\n",
    "people = [(&#39;Snow&#39;, &#39;Jon&#39;), (&#39;Lannister&#39;, &#39;Cersei&#39;), (&#39;Stark&#39;, &#39;Arya&#39;), (&#39;Stark&#39;, &#39;Robb&#39;), (&#39;Lannister&#39;, &#39;Jamie&#39;),\n",
    "(&#39;Targaryen&#39;, &#39;Daenerys&#39;), (&#39;Stark&#39;, &#39;Sansa&#39;), (&#39;Tyrell&#39;, &#39;Margaery&#39;), (&#39;Stark&#39;, &#39;Eddard&#39;), (&#39;Lannister&#39;, &#39;Tyrion&#39;),\n",
    "(&#39;Baratheon&#39;, &#39;Joffrey&#39;), (&#39;Bolton&#39;, &#39;Ramsey&#39;)"
   ]
  },
  {
   "cell_type": "code",
   "execution_count": 55,
   "metadata": {},
   "outputs": [
    {
     "name": "stdout",
     "output_type": "stream",
     "text": [
      "['Jon', 'Cersei', 'Arya', 'Robb', 'Jamie', 'Daenerys', 'Sansa', 'Margaery', 'Eddard', 'Tyrion', 'Joffrey', 'Ramsey']\n"
     ]
    }
   ],
   "source": [
    "people = [('Snow', 'Jon'), ('Lannister', 'Cersei'), ('Stark', 'Arya'), ('Stark', 'Robb'), ('Lannister', 'Jamie'), ('Targaryen', 'Daenerys'), ('Stark', 'Sansa'), ('Tyrell', 'Margaery'), ('Stark', 'Eddard'), ('Lannister', 'Tyrion'), ('Baratheon', 'Joffrey'), ('Bolton', 'Ramsey')]\n",
    "G_O_T=[i[1] for i in people]\n",
    "print(list(G_O_T))\n",
    "\n",
    "          "
   ]
  },
  {
   "cell_type": "markdown",
   "metadata": {},
   "source": [
    "Question 34. Use list comprehension to create a list called lst2 that doubles each element in the list, lst.\n",
    "lst = [[&quot;hi&quot;, &quot;bye&quot;], &quot;hello&quot;, &quot;goodbye&quot;, [9, 2], 4]"
   ]
  },
  {
   "cell_type": "code",
   "execution_count": 60,
   "metadata": {},
   "outputs": [
    {
     "name": "stdout",
     "output_type": "stream",
     "text": [
      "[['hi', 'bye', 'hi', 'bye'], 'hellohello', 'goodbyegoodbye', [9, 2, 9, 2], 8]\n"
     ]
    }
   ],
   "source": [
    "lst = [[\"hi\", \"bye\"], \"hello\", \"goodbye\", [9, 2], 4]\n",
    "a=[i+i for i in lst]\n",
    "print(list(a))"
   ]
  },
  {
   "cell_type": "markdown",
   "metadata": {},
   "source": [
    "Question 35. Below, we have provided a list of tuples that contain students’ names and their final grades in\n",
    "PYTHON 101. Using list comprehension, create a new list passed that contains the names of students who\n",
    "passed the class (had a final grade of 70 or greater).\n",
    "students = [(&#39;Tommy&#39;, 95), (&#39;Linda&#39;, 63), (&#39;Carl&#39;, 70), (&#39;Bob&#39;, 100), (&#39;Raymond&#39;, 50), (&#39;Sue&#39;, 75)]"
   ]
  },
  {
   "cell_type": "code",
   "execution_count": 61,
   "metadata": {},
   "outputs": [
    {
     "name": "stdout",
     "output_type": "stream",
     "text": [
      "['Tommy', 'Bob', 'Sue']\n"
     ]
    }
   ],
   "source": [
    "students = [('Tommy', 95), ('Linda', 63), ('Carl', 70), ('Bob', 100), ('Raymond', 50), ('Sue', 75)]\n",
    "new=[]\n",
    "for i in students:\n",
    "    if i[1]>70:\n",
    "        new.append(i[0])\n",
    "print(new)"
   ]
  },
  {
   "cell_type": "markdown",
   "metadata": {},
   "source": [
    "Question 36. Write code using zip and filter so that these lists (l1 and l2) are combined into one big list and\n",
    "assigned to the variable opposites if they are both longer than 3 characters each.\n",
    "l1 = [&#39;left&#39;, &#39;up&#39;, &#39;front&#39;]\n",
    "l2 = [&#39;right&#39;, &#39;down&#39;, &#39;back&#39;]"
   ]
  },
  {
   "cell_type": "code",
   "execution_count": 70,
   "metadata": {},
   "outputs": [
    {
     "name": "stdout",
     "output_type": "stream",
     "text": [
      "[('left', 'right'), ('front', 'back')]\n"
     ]
    }
   ],
   "source": [
    "l1 = ['left', 'up', 'front'] \n",
    "l2 = ['right', 'down', 'back']\n",
    "new=zip(l1,l2)\n",
    "#print(list(new))\n",
    "oppo= list(filter(lambda i: len(i[0])>3 and len(i[1])>3, new))\n",
    "print(list(oppo))"
   ]
  },
  {
   "cell_type": "markdown",
   "metadata": {},
   "source": [
    "Question 37. Below, we have provided a species list and a population list. Use zip to combine these lists\n",
    "into one list of tuples called pop_info. From this list, create a new list called endangered that contains the\n",
    "names of species whose populations are below 2500.\n",
    "species = [&#39;golden retriever&#39;, &#39;white tailed deer&#39;, &#39;black rhino&#39;, &#39;brown squirrel&#39;, &#39;field mouse&#39;, &#39;orangutan&#39;,\n",
    "&#39;sumatran elephant&#39;, &#39;rainbow trout&#39;, &#39;black bear&#39;, &#39;blue whale&#39;, &#39;water moccasin&#39;, &#39;giant panda&#39;, &#39;green turtle&#39;,\n",
    "&#39;blue jay&#39;, &#39;japanese beetle&#39;]\n",
    "population = [10000, 90000, 1000, 2000000, 500000, 500, 1200, 8000, 12000, 2300, 7500, 100, 1800, 9500,\n",
    "125000]"
   ]
  },
  {
   "cell_type": "code",
   "execution_count": 74,
   "metadata": {},
   "outputs": [
    {
     "name": "stdout",
     "output_type": "stream",
     "text": [
      "['black rhino', 'orangutan', 'sumatran elephant', 'blue whale', 'giant panda', 'green turtle']\n"
     ]
    }
   ],
   "source": [
    "species = ['golden retriever', 'white tailed deer', 'black rhino', 'brown squirrel', 'field mouse', 'orangutan', 'sumatran elephant', 'rainbow trout', 'black bear', 'blue whale', 'water moccasin', 'giant panda', 'green turtle', 'blue jay', 'japanese beetle']\n",
    "population = [10000, 90000, 1000, 2000000, 500000, 500, 1200, 8000, 12000, 2300, 7500, 100, 1800, 9500, 125000]\n",
    "a=zip(species,population)\n",
    "#print(list(a))\n",
    "e=[]\n",
    "for i,j in a:\n",
    "    if j<2500:\n",
    "        e.append(i)\n",
    "print(e)"
   ]
  },
  {
   "cell_type": "code",
   "execution_count": null,
   "metadata": {},
   "outputs": [],
   "source": []
  }
 ],
 "metadata": {
  "kernelspec": {
   "display_name": "Python 3",
   "language": "python",
   "name": "python3"
  },
  "language_info": {
   "codemirror_mode": {
    "name": "ipython",
    "version": 3
   },
   "file_extension": ".py",
   "mimetype": "text/x-python",
   "name": "python",
   "nbconvert_exporter": "python",
   "pygments_lexer": "ipython3",
   "version": "3.7.4"
  }
 },
 "nbformat": 4,
 "nbformat_minor": 2
}
